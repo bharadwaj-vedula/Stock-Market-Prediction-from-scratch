{
 "cells": [
  {
   "cell_type": "code",
   "execution_count": 1,
   "metadata": {},
   "outputs": [],
   "source": [
    "import tensorflow as tf \n",
    "import pandas as pd \n",
    "import numpy as np \n",
    "import matplotlib.pyplot as plt\n",
    "from datetime import datetime\n",
    "\n",
    "from tensorflow.keras.layers import LSTM,GRU,RNN,Dense,Input,Dropout\n",
    "from tensorflow.keras.models import Model,save_model\n",
    "\n",
    "from sklearn.metrics import mean_squared_error,mean_absolute_error\n",
    "from sklearn.preprocessing import StandardScaler,MinMaxScaler"
   ]
  },
  {
   "cell_type": "code",
   "execution_count": 2,
   "metadata": {},
   "outputs": [],
   "source": [
    "df_10= pd.read_csv('nse_10yrs.csv')"
   ]
  },
  {
   "cell_type": "code",
   "execution_count": 3,
   "metadata": {},
   "outputs": [],
   "source": [
    "dates=[]\n",
    "for i in range(len(df_10)):\n",
    "    dates.append(datetime.strptime(df_10['Date'][i],\"%d-%m-%Y\"))"
   ]
  },
  {
   "cell_type": "code",
   "execution_count": 4,
   "metadata": {},
   "outputs": [],
   "source": [
    "dates=pd.DataFrame({'dates':dates})"
   ]
  },
  {
   "cell_type": "code",
   "execution_count": 5,
   "metadata": {},
   "outputs": [],
   "source": [
    "df_10= pd.concat([df_10,dates],axis='columns',copy='False')"
   ]
  },
  {
   "cell_type": "code",
   "execution_count": 6,
   "metadata": {},
   "outputs": [
    {
     "data": {
      "text/html": [
       "<div>\n",
       "<style scoped>\n",
       "    .dataframe tbody tr th:only-of-type {\n",
       "        vertical-align: middle;\n",
       "    }\n",
       "\n",
       "    .dataframe tbody tr th {\n",
       "        vertical-align: top;\n",
       "    }\n",
       "\n",
       "    .dataframe thead th {\n",
       "        text-align: right;\n",
       "    }\n",
       "</style>\n",
       "<table border=\"1\" class=\"dataframe\">\n",
       "  <thead>\n",
       "    <tr style=\"text-align: right;\">\n",
       "      <th></th>\n",
       "      <th>Date</th>\n",
       "      <th>Open</th>\n",
       "      <th>High</th>\n",
       "      <th>Low</th>\n",
       "      <th>Close</th>\n",
       "      <th>Adj Close</th>\n",
       "      <th>Volume</th>\n",
       "      <th>dates</th>\n",
       "    </tr>\n",
       "  </thead>\n",
       "  <tbody>\n",
       "    <tr>\n",
       "      <th>0</th>\n",
       "      <td>01-02-2010</td>\n",
       "      <td>4882.049805</td>\n",
       "      <td>4918.799805</td>\n",
       "      <td>4827.149902</td>\n",
       "      <td>4899.700195</td>\n",
       "      <td>4899.700195</td>\n",
       "      <td>0.0</td>\n",
       "      <td>2010-02-01</td>\n",
       "    </tr>\n",
       "    <tr>\n",
       "      <th>1</th>\n",
       "      <td>02-02-2010</td>\n",
       "      <td>4907.850098</td>\n",
       "      <td>4951.149902</td>\n",
       "      <td>4814.100098</td>\n",
       "      <td>4830.100098</td>\n",
       "      <td>4830.100098</td>\n",
       "      <td>0.0</td>\n",
       "      <td>2010-02-02</td>\n",
       "    </tr>\n",
       "    <tr>\n",
       "      <th>2</th>\n",
       "      <td>03-02-2010</td>\n",
       "      <td>4831.000000</td>\n",
       "      <td>4949.149902</td>\n",
       "      <td>4831.000000</td>\n",
       "      <td>4931.850098</td>\n",
       "      <td>4931.850098</td>\n",
       "      <td>0.0</td>\n",
       "      <td>2010-02-03</td>\n",
       "    </tr>\n",
       "    <tr>\n",
       "      <th>3</th>\n",
       "      <td>04-02-2010</td>\n",
       "      <td>4931.299805</td>\n",
       "      <td>4931.299805</td>\n",
       "      <td>4832.350098</td>\n",
       "      <td>4845.350098</td>\n",
       "      <td>4845.350098</td>\n",
       "      <td>0.0</td>\n",
       "      <td>2010-02-04</td>\n",
       "    </tr>\n",
       "    <tr>\n",
       "      <th>4</th>\n",
       "      <td>05-02-2010</td>\n",
       "      <td>4819.649902</td>\n",
       "      <td>4827.000000</td>\n",
       "      <td>4692.350098</td>\n",
       "      <td>4718.649902</td>\n",
       "      <td>4718.649902</td>\n",
       "      <td>0.0</td>\n",
       "      <td>2010-02-05</td>\n",
       "    </tr>\n",
       "    <tr>\n",
       "      <th>...</th>\n",
       "      <td>...</td>\n",
       "      <td>...</td>\n",
       "      <td>...</td>\n",
       "      <td>...</td>\n",
       "      <td>...</td>\n",
       "      <td>...</td>\n",
       "      <td>...</td>\n",
       "      <td>...</td>\n",
       "    </tr>\n",
       "    <tr>\n",
       "      <th>2468</th>\n",
       "      <td>27-01-2020</td>\n",
       "      <td>12197.099610</td>\n",
       "      <td>12216.599610</td>\n",
       "      <td>12107.000000</td>\n",
       "      <td>12119.000000</td>\n",
       "      <td>12119.000000</td>\n",
       "      <td>441200.0</td>\n",
       "      <td>2020-01-27</td>\n",
       "    </tr>\n",
       "    <tr>\n",
       "      <th>2469</th>\n",
       "      <td>28-01-2020</td>\n",
       "      <td>12148.099610</td>\n",
       "      <td>12163.549810</td>\n",
       "      <td>12024.500000</td>\n",
       "      <td>12055.799810</td>\n",
       "      <td>12055.799810</td>\n",
       "      <td>478500.0</td>\n",
       "      <td>2020-01-28</td>\n",
       "    </tr>\n",
       "    <tr>\n",
       "      <th>2470</th>\n",
       "      <td>29-01-2020</td>\n",
       "      <td>12114.900390</td>\n",
       "      <td>12169.599610</td>\n",
       "      <td>12103.799810</td>\n",
       "      <td>12129.500000</td>\n",
       "      <td>12129.500000</td>\n",
       "      <td>514400.0</td>\n",
       "      <td>2020-01-29</td>\n",
       "    </tr>\n",
       "    <tr>\n",
       "      <th>2471</th>\n",
       "      <td>30-01-2020</td>\n",
       "      <td>12147.750000</td>\n",
       "      <td>12150.299810</td>\n",
       "      <td>12010.599610</td>\n",
       "      <td>12035.799810</td>\n",
       "      <td>12035.799810</td>\n",
       "      <td>538100.0</td>\n",
       "      <td>2020-01-30</td>\n",
       "    </tr>\n",
       "    <tr>\n",
       "      <th>2472</th>\n",
       "      <td>31-01-2020</td>\n",
       "      <td>12100.400390</td>\n",
       "      <td>12103.549810</td>\n",
       "      <td>11945.849610</td>\n",
       "      <td>11962.099610</td>\n",
       "      <td>11962.099610</td>\n",
       "      <td>771300.0</td>\n",
       "      <td>2020-01-31</td>\n",
       "    </tr>\n",
       "  </tbody>\n",
       "</table>\n",
       "<p>2473 rows × 8 columns</p>\n",
       "</div>"
      ],
      "text/plain": [
       "            Date          Open          High           Low         Close  \\\n",
       "0     01-02-2010   4882.049805   4918.799805   4827.149902   4899.700195   \n",
       "1     02-02-2010   4907.850098   4951.149902   4814.100098   4830.100098   \n",
       "2     03-02-2010   4831.000000   4949.149902   4831.000000   4931.850098   \n",
       "3     04-02-2010   4931.299805   4931.299805   4832.350098   4845.350098   \n",
       "4     05-02-2010   4819.649902   4827.000000   4692.350098   4718.649902   \n",
       "...          ...           ...           ...           ...           ...   \n",
       "2468  27-01-2020  12197.099610  12216.599610  12107.000000  12119.000000   \n",
       "2469  28-01-2020  12148.099610  12163.549810  12024.500000  12055.799810   \n",
       "2470  29-01-2020  12114.900390  12169.599610  12103.799810  12129.500000   \n",
       "2471  30-01-2020  12147.750000  12150.299810  12010.599610  12035.799810   \n",
       "2472  31-01-2020  12100.400390  12103.549810  11945.849610  11962.099610   \n",
       "\n",
       "         Adj Close    Volume      dates  \n",
       "0      4899.700195       0.0 2010-02-01  \n",
       "1      4830.100098       0.0 2010-02-02  \n",
       "2      4931.850098       0.0 2010-02-03  \n",
       "3      4845.350098       0.0 2010-02-04  \n",
       "4      4718.649902       0.0 2010-02-05  \n",
       "...            ...       ...        ...  \n",
       "2468  12119.000000  441200.0 2020-01-27  \n",
       "2469  12055.799810  478500.0 2020-01-28  \n",
       "2470  12129.500000  514400.0 2020-01-29  \n",
       "2471  12035.799810  538100.0 2020-01-30  \n",
       "2472  11962.099610  771300.0 2020-01-31  \n",
       "\n",
       "[2473 rows x 8 columns]"
      ]
     },
     "execution_count": 6,
     "metadata": {},
     "output_type": "execute_result"
    }
   ],
   "source": [
    "df_10"
   ]
  },
  {
   "cell_type": "code",
   "execution_count": 7,
   "metadata": {},
   "outputs": [
    {
     "data": {
      "text/html": [
       "<div>\n",
       "<style scoped>\n",
       "    .dataframe tbody tr th:only-of-type {\n",
       "        vertical-align: middle;\n",
       "    }\n",
       "\n",
       "    .dataframe tbody tr th {\n",
       "        vertical-align: top;\n",
       "    }\n",
       "\n",
       "    .dataframe thead th {\n",
       "        text-align: right;\n",
       "    }\n",
       "</style>\n",
       "<table border=\"1\" class=\"dataframe\">\n",
       "  <thead>\n",
       "    <tr style=\"text-align: right;\">\n",
       "      <th></th>\n",
       "      <th>Date</th>\n",
       "      <th>Open</th>\n",
       "      <th>High</th>\n",
       "      <th>Low</th>\n",
       "      <th>Close</th>\n",
       "      <th>Adj Close</th>\n",
       "      <th>Volume</th>\n",
       "    </tr>\n",
       "    <tr>\n",
       "      <th>dates</th>\n",
       "      <th></th>\n",
       "      <th></th>\n",
       "      <th></th>\n",
       "      <th></th>\n",
       "      <th></th>\n",
       "      <th></th>\n",
       "      <th></th>\n",
       "    </tr>\n",
       "  </thead>\n",
       "  <tbody>\n",
       "    <tr>\n",
       "      <th>2010-02-01</th>\n",
       "      <td>01-02-2010</td>\n",
       "      <td>4882.049805</td>\n",
       "      <td>4918.799805</td>\n",
       "      <td>4827.149902</td>\n",
       "      <td>4899.700195</td>\n",
       "      <td>4899.700195</td>\n",
       "      <td>0.0</td>\n",
       "    </tr>\n",
       "    <tr>\n",
       "      <th>2010-02-02</th>\n",
       "      <td>02-02-2010</td>\n",
       "      <td>4907.850098</td>\n",
       "      <td>4951.149902</td>\n",
       "      <td>4814.100098</td>\n",
       "      <td>4830.100098</td>\n",
       "      <td>4830.100098</td>\n",
       "      <td>0.0</td>\n",
       "    </tr>\n",
       "    <tr>\n",
       "      <th>2010-02-03</th>\n",
       "      <td>03-02-2010</td>\n",
       "      <td>4831.000000</td>\n",
       "      <td>4949.149902</td>\n",
       "      <td>4831.000000</td>\n",
       "      <td>4931.850098</td>\n",
       "      <td>4931.850098</td>\n",
       "      <td>0.0</td>\n",
       "    </tr>\n",
       "    <tr>\n",
       "      <th>2010-02-04</th>\n",
       "      <td>04-02-2010</td>\n",
       "      <td>4931.299805</td>\n",
       "      <td>4931.299805</td>\n",
       "      <td>4832.350098</td>\n",
       "      <td>4845.350098</td>\n",
       "      <td>4845.350098</td>\n",
       "      <td>0.0</td>\n",
       "    </tr>\n",
       "    <tr>\n",
       "      <th>2010-02-05</th>\n",
       "      <td>05-02-2010</td>\n",
       "      <td>4819.649902</td>\n",
       "      <td>4827.000000</td>\n",
       "      <td>4692.350098</td>\n",
       "      <td>4718.649902</td>\n",
       "      <td>4718.649902</td>\n",
       "      <td>0.0</td>\n",
       "    </tr>\n",
       "    <tr>\n",
       "      <th>...</th>\n",
       "      <td>...</td>\n",
       "      <td>...</td>\n",
       "      <td>...</td>\n",
       "      <td>...</td>\n",
       "      <td>...</td>\n",
       "      <td>...</td>\n",
       "      <td>...</td>\n",
       "    </tr>\n",
       "    <tr>\n",
       "      <th>2020-01-27</th>\n",
       "      <td>27-01-2020</td>\n",
       "      <td>12197.099610</td>\n",
       "      <td>12216.599610</td>\n",
       "      <td>12107.000000</td>\n",
       "      <td>12119.000000</td>\n",
       "      <td>12119.000000</td>\n",
       "      <td>441200.0</td>\n",
       "    </tr>\n",
       "    <tr>\n",
       "      <th>2020-01-28</th>\n",
       "      <td>28-01-2020</td>\n",
       "      <td>12148.099610</td>\n",
       "      <td>12163.549810</td>\n",
       "      <td>12024.500000</td>\n",
       "      <td>12055.799810</td>\n",
       "      <td>12055.799810</td>\n",
       "      <td>478500.0</td>\n",
       "    </tr>\n",
       "    <tr>\n",
       "      <th>2020-01-29</th>\n",
       "      <td>29-01-2020</td>\n",
       "      <td>12114.900390</td>\n",
       "      <td>12169.599610</td>\n",
       "      <td>12103.799810</td>\n",
       "      <td>12129.500000</td>\n",
       "      <td>12129.500000</td>\n",
       "      <td>514400.0</td>\n",
       "    </tr>\n",
       "    <tr>\n",
       "      <th>2020-01-30</th>\n",
       "      <td>30-01-2020</td>\n",
       "      <td>12147.750000</td>\n",
       "      <td>12150.299810</td>\n",
       "      <td>12010.599610</td>\n",
       "      <td>12035.799810</td>\n",
       "      <td>12035.799810</td>\n",
       "      <td>538100.0</td>\n",
       "    </tr>\n",
       "    <tr>\n",
       "      <th>2020-01-31</th>\n",
       "      <td>31-01-2020</td>\n",
       "      <td>12100.400390</td>\n",
       "      <td>12103.549810</td>\n",
       "      <td>11945.849610</td>\n",
       "      <td>11962.099610</td>\n",
       "      <td>11962.099610</td>\n",
       "      <td>771300.0</td>\n",
       "    </tr>\n",
       "  </tbody>\n",
       "</table>\n",
       "<p>2473 rows × 7 columns</p>\n",
       "</div>"
      ],
      "text/plain": [
       "                  Date          Open          High           Low  \\\n",
       "dates                                                              \n",
       "2010-02-01  01-02-2010   4882.049805   4918.799805   4827.149902   \n",
       "2010-02-02  02-02-2010   4907.850098   4951.149902   4814.100098   \n",
       "2010-02-03  03-02-2010   4831.000000   4949.149902   4831.000000   \n",
       "2010-02-04  04-02-2010   4931.299805   4931.299805   4832.350098   \n",
       "2010-02-05  05-02-2010   4819.649902   4827.000000   4692.350098   \n",
       "...                ...           ...           ...           ...   \n",
       "2020-01-27  27-01-2020  12197.099610  12216.599610  12107.000000   \n",
       "2020-01-28  28-01-2020  12148.099610  12163.549810  12024.500000   \n",
       "2020-01-29  29-01-2020  12114.900390  12169.599610  12103.799810   \n",
       "2020-01-30  30-01-2020  12147.750000  12150.299810  12010.599610   \n",
       "2020-01-31  31-01-2020  12100.400390  12103.549810  11945.849610   \n",
       "\n",
       "                   Close     Adj Close    Volume  \n",
       "dates                                             \n",
       "2010-02-01   4899.700195   4899.700195       0.0  \n",
       "2010-02-02   4830.100098   4830.100098       0.0  \n",
       "2010-02-03   4931.850098   4931.850098       0.0  \n",
       "2010-02-04   4845.350098   4845.350098       0.0  \n",
       "2010-02-05   4718.649902   4718.649902       0.0  \n",
       "...                  ...           ...       ...  \n",
       "2020-01-27  12119.000000  12119.000000  441200.0  \n",
       "2020-01-28  12055.799810  12055.799810  478500.0  \n",
       "2020-01-29  12129.500000  12129.500000  514400.0  \n",
       "2020-01-30  12035.799810  12035.799810  538100.0  \n",
       "2020-01-31  11962.099610  11962.099610  771300.0  \n",
       "\n",
       "[2473 rows x 7 columns]"
      ]
     },
     "execution_count": 7,
     "metadata": {},
     "output_type": "execute_result"
    }
   ],
   "source": [
    "df_10['dates']=pd.to_datetime(df_10['dates'])\n",
    "df_10=df_10.set_index('dates')\n",
    "df_10"
   ]
  },
  {
   "cell_type": "code",
   "execution_count": 8,
   "metadata": {},
   "outputs": [
    {
     "data": {
      "text/plain": [
       "Date          0\n",
       "Open         24\n",
       "High         24\n",
       "Low          24\n",
       "Close        24\n",
       "Adj Close    24\n",
       "Volume       24\n",
       "dtype: int64"
      ]
     },
     "execution_count": 8,
     "metadata": {},
     "output_type": "execute_result"
    }
   ],
   "source": [
    "df_10.isnull().sum()"
   ]
  },
  {
   "cell_type": "code",
   "execution_count": 9,
   "metadata": {},
   "outputs": [],
   "source": [
    "df_10=df_10.dropna(axis=\"rows\")"
   ]
  },
  {
   "cell_type": "code",
   "execution_count": 10,
   "metadata": {},
   "outputs": [
    {
     "data": {
      "text/plain": [
       "(2449, 7)"
      ]
     },
     "execution_count": 10,
     "metadata": {},
     "output_type": "execute_result"
    }
   ],
   "source": [
    "df_10.isnull().sum()\n",
    "df_10.shape"
   ]
  },
  {
   "cell_type": "code",
   "execution_count": 11,
   "metadata": {},
   "outputs": [
    {
     "data": {
      "text/plain": [
       "dates\n",
       "2010-02-01     4899.700195\n",
       "2010-02-02     4830.100098\n",
       "2010-02-03     4931.850098\n",
       "2010-02-04     4845.350098\n",
       "2010-02-05     4718.649902\n",
       "                  ...     \n",
       "2020-01-27    12119.000000\n",
       "2020-01-28    12055.799810\n",
       "2020-01-29    12129.500000\n",
       "2020-01-30    12035.799810\n",
       "2020-01-31    11962.099610\n",
       "Name: Close, Length: 2449, dtype: float64"
      ]
     },
     "execution_count": 11,
     "metadata": {},
     "output_type": "execute_result"
    }
   ],
   "source": [
    "df_close=df_10.iloc[:,4]\n",
    "df_close"
   ]
  },
  {
   "cell_type": "code",
   "execution_count": 12,
   "metadata": {},
   "outputs": [
    {
     "data": {
      "text/plain": [
       "[<matplotlib.lines.Line2D at 0x20a8ec27640>]"
      ]
     },
     "execution_count": 12,
     "metadata": {},
     "output_type": "execute_result"
    },
    {
     "data": {
      "image/png": "[encoded data removed]",
      "text/plain": [
       "<Figure size 432x288 with 1 Axes>"
      ]
     },
     "metadata": {
      "needs_background": "light"
     },
     "output_type": "display_data"
    }
   ],
   "source": [
    "plt.plot(df_close)"
   ]
  },
  {
   "cell_type": "code",
   "execution_count": 13,
   "metadata": {},
   "outputs": [],
   "source": [
    "sc=StandardScaler()\n",
    "scaler = MinMaxScaler(feature_range=(-1,1))\n",
    "\n",
    "df_close_scaled= sc.fit_transform(df_close.values.reshape(-1, 1))\n",
    "\n",
    "df_closed_minmax= scaler.fit_transform(df_close.values.reshape(-1,1))"
   ]
  },
  {
   "cell_type": "code",
   "execution_count": 14,
   "metadata": {},
   "outputs": [
    {
     "data": {
      "text/plain": [
       "array([[-0.90905718],\n",
       "       [-0.92686205],\n",
       "       [-0.9008327 ],\n",
       "       ...,\n",
       "       [ 0.94044593],\n",
       "       [ 0.91647587],\n",
       "       [ 0.89762213]])"
      ]
     },
     "execution_count": 14,
     "metadata": {},
     "output_type": "execute_result"
    }
   ],
   "source": [
    "df_closed_minmax"
   ]
  },
  {
   "cell_type": "code",
   "execution_count": 15,
   "metadata": {},
   "outputs": [
    {
     "data": {
      "text/plain": [
       "array([[-1.30396946],\n",
       "       [-1.33510382],\n",
       "       [-1.28958777],\n",
       "       ...,\n",
       "       [ 1.93015281],\n",
       "       [ 1.8882377 ],\n",
       "       [ 1.85526923]])"
      ]
     },
     "execution_count": 15,
     "metadata": {},
     "output_type": "execute_result"
    }
   ],
   "source": [
    "df_close_scaled"
   ]
  },
  {
   "cell_type": "code",
   "execution_count": null,
   "metadata": {},
   "outputs": [],
   "source": []
  },
  {
   "cell_type": "code",
   "execution_count": 16,
   "metadata": {},
   "outputs": [],
   "source": [
    "df_train=df_close_scaled[0:2000]\n",
    "df_test= df_close_scaled[2000:]"
   ]
  },
  {
   "cell_type": "code",
   "execution_count": 17,
   "metadata": {},
   "outputs": [],
   "source": [
    "def create_dataset(X, y, time_steps=1):\n",
    "    Xs, ys = [], []\n",
    "    for i in range(len(X) - time_steps):\n",
    "        v = X[i:(i + time_steps)]\n",
    "        Xs.append(v)\n",
    "        ys.append(y[i + time_steps])\n",
    "    return np.array(Xs), np.array(ys)"
   ]
  },
  {
   "cell_type": "code",
   "execution_count": 18,
   "metadata": {},
   "outputs": [],
   "source": [
    "X_train,y_train=create_dataset(df_train,df_train,time_steps=50)\n",
    "X_test,y_test=create_dataset(df_test,df_test,time_steps=50)"
   ]
  },
  {
   "cell_type": "code",
   "execution_count": 19,
   "metadata": {},
   "outputs": [
    {
     "data": {
      "text/plain": [
       "((1950, 50, 1), (1950, 1))"
      ]
     },
     "execution_count": 19,
     "metadata": {},
     "output_type": "execute_result"
    }
   ],
   "source": [
    "X_train.shape , y_train.shape"
   ]
  },
  {
   "cell_type": "code",
   "execution_count": 20,
   "metadata": {},
   "outputs": [
    {
     "name": "stdout",
     "output_type": "stream",
     "text": [
      "Model: \"model\"\n",
      "_________________________________________________________________\n",
      "Layer (type)                 Output Shape              Param #   \n",
      "=================================================================\n",
      "input_1 (InputLayer)         [(None, 50, 1)]           0         \n",
      "_________________________________________________________________\n",
      "lstm (LSTM)                  (None, 200)               161600    \n",
      "_________________________________________________________________\n",
      "dropout (Dropout)            (None, 200)               0         \n",
      "_________________________________________________________________\n",
      "dense (Dense)                (None, 1)                 201       \n",
      "=================================================================\n",
      "Total params: 161,801\n",
      "Trainable params: 161,801\n",
      "Non-trainable params: 0\n",
      "_________________________________________________________________\n"
     ]
    }
   ],
   "source": [
    "#model \n",
    "\n",
    "input_layer = Input(shape=(50,1))\n",
    "x= LSTM(200)(input_layer)\n",
    "x= Dropout(0.2)(x)\n",
    "#x=Dense(64,activation=\"relu\")(x)\n",
    "prediction=Dense(1,activation='relu')(x)\n",
    "\n",
    "model1=Model(inputs=input_layer, outputs= prediction)\n",
    "\n",
    "model1.compile(\n",
    "    optimizer=\"adam\",\n",
    "    loss=\"mse\",\n",
    "    metrics='mae'\n",
    ")\n",
    "\n",
    "model1.summary()"
   ]
  },
  {
   "cell_type": "code",
   "execution_count": 21,
   "metadata": {},
   "outputs": [
    {
     "name": "stdout",
     "output_type": "stream",
     "text": [
      "Epoch 1/25\n",
      "61/61 [==============================] - 3s 46ms/step - loss: 0.5321 - mae: 0.5586\n",
      "Epoch 2/25\n",
      "61/61 [==============================] - 3s 48ms/step - loss: 0.5184 - mae: 0.5362\n",
      "Epoch 3/25\n",
      "61/61 [==============================] - 3s 46ms/step - loss: 0.5181 - mae: 0.5347\n",
      "Epoch 4/25\n",
      "61/61 [==============================] - 3s 50ms/step - loss: 0.5181 - mae: 0.5350\n",
      "Epoch 5/25\n",
      "61/61 [==============================] - 3s 53ms/step - loss: 0.5182 - mae: 0.5350\n",
      "Epoch 6/25\n",
      "61/61 [==============================] - 3s 47ms/step - loss: 0.5180 - mae: 0.5341\n",
      "Epoch 7/25\n",
      "61/61 [==============================] - 3s 48ms/step - loss: 0.5178 - mae: 0.5329\n",
      "Epoch 8/25\n",
      "61/61 [==============================] - 3s 48ms/step - loss: 0.5177 - mae: 0.5326\n",
      "Epoch 9/25\n",
      "61/61 [==============================] - 3s 47ms/step - loss: 0.5178 - mae: 0.5327\n",
      "Epoch 10/25\n",
      "61/61 [==============================] - 3s 51ms/step - loss: 0.5181 - mae: 0.5345\n",
      "Epoch 11/25\n",
      "61/61 [==============================] - 3s 46ms/step - loss: 0.5178 - mae: 0.5329\n",
      "Epoch 12/25\n",
      "61/61 [==============================] - 3s 49ms/step - loss: 0.5177 - mae: 0.5328\n",
      "Epoch 13/25\n",
      "61/61 [==============================] - 3s 47ms/step - loss: 0.5176 - mae: 0.5322\n",
      "Epoch 14/25\n",
      "61/61 [==============================] - 3s 48ms/step - loss: 0.5177 - mae: 0.5323\n",
      "Epoch 15/25\n",
      "61/61 [==============================] - 3s 47ms/step - loss: 0.5175 - mae: 0.5311\n",
      "Epoch 16/25\n",
      "61/61 [==============================] - 3s 49ms/step - loss: 0.5174 - mae: 0.5307\n",
      "Epoch 17/25\n",
      "61/61 [==============================] - 3s 47ms/step - loss: 0.5175 - mae: 0.5308\n",
      "Epoch 18/25\n",
      "61/61 [==============================] - 3s 50ms/step - loss: 0.5175 - mae: 0.5307\n",
      "Epoch 19/25\n",
      "61/61 [==============================] - 3s 54ms/step - loss: 0.5173 - mae: 0.5297\n",
      "Epoch 20/25\n",
      "61/61 [==============================] - 3s 54ms/step - loss: 0.5173 - mae: 0.5297\n",
      "Epoch 21/25\n",
      "61/61 [==============================] - 3s 49ms/step - loss: 0.5173 - mae: 0.5296\n",
      "Epoch 22/25\n",
      "61/61 [==============================] - 3s 45ms/step - loss: 0.5175 - mae: 0.5304\n",
      "Epoch 23/25\n",
      "61/61 [==============================] - 3s 45ms/step - loss: 0.5174 - mae: 0.5300\n",
      "Epoch 24/25\n",
      "61/61 [==============================] - 3s 53ms/step - loss: 0.5172 - mae: 0.5291\n",
      "Epoch 25/25\n",
      "61/61 [==============================] - 3s 48ms/step - loss: 0.5171 - mae: 0.5282\n"
     ]
    }
   ],
   "source": [
    "hist= model1.fit(X_train,y_train, epochs=25)"
   ]
  },
  {
   "cell_type": "code",
   "execution_count": 81,
   "metadata": {},
   "outputs": [],
   "source": [
    "np.save('lstm_hist_mae.npy', hist.history['mae']) \n",
    "np.save('lstm_hist_loss.npy', hist.history['loss']) "
   ]
  },
  {
   "cell_type": "code",
   "execution_count": null,
   "metadata": {},
   "outputs": [],
   "source": []
  },
  {
   "cell_type": "code",
   "execution_count": 22,
   "metadata": {},
   "outputs": [],
   "source": [
    "y_pred=model1.predict(X_test)"
   ]
  },
  {
   "cell_type": "code",
   "execution_count": 23,
   "metadata": {},
   "outputs": [
    {
     "data": {
      "text/plain": [
       "(399, 1)"
      ]
     },
     "execution_count": 23,
     "metadata": {},
     "output_type": "execute_result"
    }
   ],
   "source": [
    "y_pred.shape"
   ]
  },
  {
   "cell_type": "code",
   "execution_count": 24,
   "metadata": {},
   "outputs": [
    {
     "data": {
      "text/plain": [
       "(125.99132143232629, 95.19435284069553)"
      ]
     },
     "execution_count": 24,
     "metadata": {},
     "output_type": "execute_result"
    }
   ],
   "source": [
    "np.sqrt(mean_squared_error(sc.inverse_transform(y_test),sc.inverse_transform(y_pred))),mean_absolute_error(sc.inverse_transform(y_test),sc.inverse_transform(y_pred))"
   ]
  },
  {
   "cell_type": "code",
   "execution_count": 25,
   "metadata": {},
   "outputs": [
    {
     "data": {
      "text/plain": [
       "<function matplotlib.pyplot.show(*args, **kw)>"
      ]
     },
     "execution_count": 25,
     "metadata": {},
     "output_type": "execute_result"
    },
    {
     "data": {
      "image/png": "[encoded data removed]",
      "text/plain": [
       "<Figure size 432x288 with 1 Axes>"
      ]
     },
     "metadata": {
      "needs_background": "light"
     },
     "output_type": "display_data"
    }
   ],
   "source": [
    "plt.plot(sc.inverse_transform(y_test))\n",
    "plt.plot(sc.inverse_transform(y_pred))\n",
    "\n",
    "plt.show"
   ]
  },
  {
   "cell_type": "code",
   "execution_count": 26,
   "metadata": {},
   "outputs": [
    {
     "name": "stdout",
     "output_type": "stream",
     "text": [
      "Model: \"model_1\"\n",
      "_________________________________________________________________\n",
      "Layer (type)                 Output Shape              Param #   \n",
      "=================================================================\n",
      "input_2 (InputLayer)         [(None, 50, 1)]           0         \n",
      "_________________________________________________________________\n",
      "gru (GRU)                    (None, 200)               121800    \n",
      "_________________________________________________________________\n",
      "dropout_1 (Dropout)          (None, 200)               0         \n",
      "_________________________________________________________________\n",
      "dense_1 (Dense)              (None, 1)                 201       \n",
      "=================================================================\n",
      "Total params: 122,001\n",
      "Trainable params: 122,001\n",
      "Non-trainable params: 0\n",
      "_________________________________________________________________\n"
     ]
    }
   ],
   "source": [
    "#model2 \n",
    "\n",
    "input_layer = Input(shape=(50,1))\n",
    "x= GRU(200)(input_layer)\n",
    "x= Dropout(0.2)(x)\n",
    "#x=Dense(64,activation=\"relu\")(x)\n",
    "prediction=Dense(1,activation='relu')(x)\n",
    "\n",
    "model2=Model(inputs=input_layer, outputs= prediction)\n",
    "\n",
    "model2.compile(\n",
    "    optimizer=\"adam\",\n",
    "    loss=\"mse\",\n",
    "    metrics='mae'\n",
    ")\n",
    "\n",
    "model2.summary()"
   ]
  },
  {
   "cell_type": "code",
   "execution_count": 27,
   "metadata": {},
   "outputs": [
    {
     "name": "stdout",
     "output_type": "stream",
     "text": [
      "Epoch 1/25\n",
      "61/61 [==============================] - 2s 37ms/step - loss: 0.5269 - mae: 0.5513\n",
      "Epoch 2/25\n",
      "61/61 [==============================] - 2s 39ms/step - loss: 0.5175 - mae: 0.5312\n",
      "Epoch 3/25\n",
      "61/61 [==============================] - 3s 43ms/step - loss: 0.5174 - mae: 0.5301\n",
      "Epoch 4/25\n",
      "61/61 [==============================] - 3s 42ms/step - loss: 0.5174 - mae: 0.5303\n",
      "Epoch 5/25\n",
      "61/61 [==============================] - 3s 44ms/step - loss: 0.5172 - mae: 0.5290: 0s - \n",
      "Epoch 6/25\n",
      "61/61 [==============================] - 3s 42ms/step - loss: 0.5174 - mae: 0.5298\n",
      "Epoch 7/25\n",
      "61/61 [==============================] - 4s 58ms/step - loss: 0.5173 - mae: 0.5296\n",
      "Epoch 8/25\n",
      "61/61 [==============================] - 3s 48ms/step - loss: 0.5171 - mae: 0.5282\n",
      "Epoch 9/25\n",
      "61/61 [==============================] - 3s 43ms/step - loss: 0.5171 - mae: 0.5280\n",
      "Epoch 10/25\n",
      "61/61 [==============================] - 2s 35ms/step - loss: 0.5172 - mae: 0.5288\n",
      "Epoch 11/25\n",
      "61/61 [==============================] - 2s 41ms/step - loss: 0.5171 - mae: 0.5283\n",
      "Epoch 12/25\n",
      "61/61 [==============================] - 3s 42ms/step - loss: 0.5170 - mae: 0.5272\n",
      "Epoch 13/25\n",
      "61/61 [==============================] - 3s 43ms/step - loss: 0.5170 - mae: 0.5273\n",
      "Epoch 14/25\n",
      "61/61 [==============================] - 3s 42ms/step - loss: 0.5170 - mae: 0.5276\n",
      "Epoch 15/25\n",
      "61/61 [==============================] - 2s 40ms/step - loss: 0.5171 - mae: 0.5276\n",
      "Epoch 16/25\n",
      "61/61 [==============================] - 2s 37ms/step - loss: 0.5170 - mae: 0.5265\n",
      "Epoch 17/25\n",
      "61/61 [==============================] - 3s 42ms/step - loss: 0.5169 - mae: 0.5267\n",
      "Epoch 18/25\n",
      "61/61 [==============================] - 3s 43ms/step - loss: 0.5169 - mae: 0.5261\n",
      "Epoch 19/25\n",
      "61/61 [==============================] - 3s 44ms/step - loss: 0.5169 - mae: 0.5266\n",
      "Epoch 20/25\n",
      "61/61 [==============================] - 3s 42ms/step - loss: 0.5169 - mae: 0.5260\n",
      "Epoch 21/25\n",
      "61/61 [==============================] - 2s 37ms/step - loss: 0.5169 - mae: 0.5266\n",
      "Epoch 22/25\n",
      "61/61 [==============================] - 2s 37ms/step - loss: 0.5169 - mae: 0.5260\n",
      "Epoch 23/25\n",
      "61/61 [==============================] - 3s 42ms/step - loss: 0.5168 - mae: 0.5258\n",
      "Epoch 24/25\n",
      "61/61 [==============================] - 3s 41ms/step - loss: 0.5169 - mae: 0.5264\n",
      "Epoch 25/25\n",
      "61/61 [==============================] - 2s 41ms/step - loss: 0.5170 - mae: 0.5270\n"
     ]
    }
   ],
   "source": [
    "hist2= model2.fit(X_train,y_train, epochs=25)"
   ]
  },
  {
   "cell_type": "code",
   "execution_count": 83,
   "metadata": {},
   "outputs": [],
   "source": [
    "np.save('gru_hist_mae.npy', hist2.history['mae']) \n",
    "np.save('gru_hist_loss.npy', hist2.history['loss']) "
   ]
  },
  {
   "cell_type": "code",
   "execution_count": 28,
   "metadata": {},
   "outputs": [
    {
     "data": {
      "text/plain": [
       "(141.46966805936654, 115.9021006868731)"
      ]
     },
     "execution_count": 28,
     "metadata": {},
     "output_type": "execute_result"
    }
   ],
   "source": [
    "y_pred2=model2.predict(X_test)\n",
    "np.sqrt(mean_squared_error(sc.inverse_transform(y_test),sc.inverse_transform(y_pred2))),mean_absolute_error(sc.inverse_transform(y_test),sc.inverse_transform(y_pred2))"
   ]
  },
  {
   "cell_type": "code",
   "execution_count": 29,
   "metadata": {},
   "outputs": [
    {
     "data": {
      "text/plain": [
       "<function matplotlib.pyplot.show(*args, **kw)>"
      ]
     },
     "execution_count": 29,
     "metadata": {},
     "output_type": "execute_result"
    },
    {
     "data": {
      "image/png": "[encoded data removed]",
      "text/plain": [
       "<Figure size 432x288 with 1 Axes>"
      ]
     },
     "metadata": {
      "needs_background": "light"
     },
     "output_type": "display_data"
    }
   ],
   "source": [
    "plt.plot(sc.inverse_transform(y_test))\n",
    "plt.plot(sc.inverse_transform(y_pred2))\n",
    "\n",
    "plt.show"
   ]
  },
  {
   "cell_type": "code",
   "execution_count": 30,
   "metadata": {},
   "outputs": [
    {
     "data": {
      "text/html": [
       "<div>\n",
       "<style scoped>\n",
       "    .dataframe tbody tr th:only-of-type {\n",
       "        vertical-align: middle;\n",
       "    }\n",
       "\n",
       "    .dataframe tbody tr th {\n",
       "        vertical-align: top;\n",
       "    }\n",
       "\n",
       "    .dataframe thead th {\n",
       "        text-align: right;\n",
       "    }\n",
       "</style>\n",
       "<table border=\"1\" class=\"dataframe\">\n",
       "  <thead>\n",
       "    <tr style=\"text-align: right;\">\n",
       "      <th></th>\n",
       "      <th>Open</th>\n",
       "      <th>High</th>\n",
       "      <th>Low</th>\n",
       "      <th>Close</th>\n",
       "      <th>Adj Close</th>\n",
       "      <th>Volume</th>\n",
       "    </tr>\n",
       "  </thead>\n",
       "  <tbody>\n",
       "    <tr>\n",
       "      <th>count</th>\n",
       "      <td>2449.000000</td>\n",
       "      <td>2449.000000</td>\n",
       "      <td>2449.000000</td>\n",
       "      <td>2449.000000</td>\n",
       "      <td>2449.000000</td>\n",
       "      <td>2.449000e+03</td>\n",
       "    </tr>\n",
       "    <tr>\n",
       "      <th>mean</th>\n",
       "      <td>7820.527566</td>\n",
       "      <td>7858.771546</td>\n",
       "      <td>7770.404568</td>\n",
       "      <td>7814.691449</td>\n",
       "      <td>7814.691449</td>\n",
       "      <td>1.649500e+05</td>\n",
       "    </tr>\n",
       "    <tr>\n",
       "      <th>std</th>\n",
       "      <td>2239.514074</td>\n",
       "      <td>2241.753204</td>\n",
       "      <td>2230.704882</td>\n",
       "      <td>2235.931644</td>\n",
       "      <td>2235.931644</td>\n",
       "      <td>1.638648e+05</td>\n",
       "    </tr>\n",
       "    <tr>\n",
       "      <th>min</th>\n",
       "      <td>4623.149902</td>\n",
       "      <td>4623.149902</td>\n",
       "      <td>4531.149902</td>\n",
       "      <td>4544.200195</td>\n",
       "      <td>4544.200195</td>\n",
       "      <td>0.000000e+00</td>\n",
       "    </tr>\n",
       "    <tr>\n",
       "      <th>25%</th>\n",
       "      <td>5704.700195</td>\n",
       "      <td>5730.500000</td>\n",
       "      <td>5663.600098</td>\n",
       "      <td>5697.700195</td>\n",
       "      <td>5697.700195</td>\n",
       "      <td>0.000000e+00</td>\n",
       "    </tr>\n",
       "    <tr>\n",
       "      <th>50%</th>\n",
       "      <td>7828.899902</td>\n",
       "      <td>7877.500000</td>\n",
       "      <td>7772.149902</td>\n",
       "      <td>7830.600098</td>\n",
       "      <td>7830.600098</td>\n",
       "      <td>1.549000e+05</td>\n",
       "    </tr>\n",
       "    <tr>\n",
       "      <th>75%</th>\n",
       "      <td>9872.849609</td>\n",
       "      <td>9895.400391</td>\n",
       "      <td>9813.000000</td>\n",
       "      <td>9859.500000</td>\n",
       "      <td>9859.500000</td>\n",
       "      <td>2.195000e+05</td>\n",
       "    </tr>\n",
       "    <tr>\n",
       "      <th>max</th>\n",
       "      <td>12430.500000</td>\n",
       "      <td>12430.500000</td>\n",
       "      <td>12321.400390</td>\n",
       "      <td>12362.299810</td>\n",
       "      <td>12362.299810</td>\n",
       "      <td>1.414800e+06</td>\n",
       "    </tr>\n",
       "  </tbody>\n",
       "</table>\n",
       "</div>"
      ],
      "text/plain": [
       "               Open          High           Low         Close     Adj Close  \\\n",
       "count   2449.000000   2449.000000   2449.000000   2449.000000   2449.000000   \n",
       "mean    7820.527566   7858.771546   7770.404568   7814.691449   7814.691449   \n",
       "std     2239.514074   2241.753204   2230.704882   2235.931644   2235.931644   \n",
       "min     4623.149902   4623.149902   4531.149902   4544.200195   4544.200195   \n",
       "25%     5704.700195   5730.500000   5663.600098   5697.700195   5697.700195   \n",
       "50%     7828.899902   7877.500000   7772.149902   7830.600098   7830.600098   \n",
       "75%     9872.849609   9895.400391   9813.000000   9859.500000   9859.500000   \n",
       "max    12430.500000  12430.500000  12321.400390  12362.299810  12362.299810   \n",
       "\n",
       "             Volume  \n",
       "count  2.449000e+03  \n",
       "mean   1.649500e+05  \n",
       "std    1.638648e+05  \n",
       "min    0.000000e+00  \n",
       "25%    0.000000e+00  \n",
       "50%    1.549000e+05  \n",
       "75%    2.195000e+05  \n",
       "max    1.414800e+06  "
      ]
     },
     "execution_count": 30,
     "metadata": {},
     "output_type": "execute_result"
    }
   ],
   "source": [
    "df_10.describe()"
   ]
  },
  {
   "cell_type": "code",
   "execution_count": 31,
   "metadata": {},
   "outputs": [],
   "source": [
    "y_pred_scaled= sc.inverse_transform(y_pred2)"
   ]
  },
  {
   "cell_type": "code",
   "execution_count": 47,
   "metadata": {},
   "outputs": [],
   "source": [
    "y_pred_scaled = y_pred_scaled.reshape(399)\n",
    "\n",
    "preds=[]\n",
    "\n",
    "for i in range(len(y_pred_scaled)):\n",
    "    preds.append(y_pred_scaled[i])"
   ]
  },
  {
   "cell_type": "code",
   "execution_count": 65,
   "metadata": {},
   "outputs": [],
   "source": [
    "index = dates[-399:].values\n",
    "index=index.reshape(399)\n",
    "df_preds= pd.DataFrame({'preds':preds})\n",
    "index_df= pd.DataFrame({'dates':index})\n",
    "\n",
    "df_pred=pd.concat([df_preds,index_df],copy=False,axis='columns')"
   ]
  },
  {
   "cell_type": "code",
   "execution_count": 67,
   "metadata": {},
   "outputs": [
    {
     "data": {
      "text/html": [
       "<div>\n",
       "<style scoped>\n",
       "    .dataframe tbody tr th:only-of-type {\n",
       "        vertical-align: middle;\n",
       "    }\n",
       "\n",
       "    .dataframe tbody tr th {\n",
       "        vertical-align: top;\n",
       "    }\n",
       "\n",
       "    .dataframe thead th {\n",
       "        text-align: right;\n",
       "    }\n",
       "</style>\n",
       "<table border=\"1\" class=\"dataframe\">\n",
       "  <thead>\n",
       "    <tr style=\"text-align: right;\">\n",
       "      <th></th>\n",
       "      <th>preds</th>\n",
       "    </tr>\n",
       "    <tr>\n",
       "      <th>dates</th>\n",
       "      <th></th>\n",
       "    </tr>\n",
       "  </thead>\n",
       "  <tbody>\n",
       "    <tr>\n",
       "      <th>2018-06-15</th>\n",
       "      <td>10749.052734</td>\n",
       "    </tr>\n",
       "    <tr>\n",
       "      <th>2018-06-18</th>\n",
       "      <td>10767.470703</td>\n",
       "    </tr>\n",
       "    <tr>\n",
       "      <th>2018-06-19</th>\n",
       "      <td>10714.447266</td>\n",
       "    </tr>\n",
       "    <tr>\n",
       "      <th>2018-06-20</th>\n",
       "      <td>10716.439453</td>\n",
       "    </tr>\n",
       "    <tr>\n",
       "      <th>2018-06-21</th>\n",
       "      <td>10704.143555</td>\n",
       "    </tr>\n",
       "    <tr>\n",
       "      <th>...</th>\n",
       "      <td>...</td>\n",
       "    </tr>\n",
       "    <tr>\n",
       "      <th>2020-01-27</th>\n",
       "      <td>12151.759766</td>\n",
       "    </tr>\n",
       "    <tr>\n",
       "      <th>2020-01-28</th>\n",
       "      <td>12014.873047</td>\n",
       "    </tr>\n",
       "    <tr>\n",
       "      <th>2020-01-29</th>\n",
       "      <td>11931.374023</td>\n",
       "    </tr>\n",
       "    <tr>\n",
       "      <th>2020-01-30</th>\n",
       "      <td>12016.936523</td>\n",
       "    </tr>\n",
       "    <tr>\n",
       "      <th>2020-01-31</th>\n",
       "      <td>11934.582031</td>\n",
       "    </tr>\n",
       "  </tbody>\n",
       "</table>\n",
       "<p>399 rows × 1 columns</p>\n",
       "</div>"
      ],
      "text/plain": [
       "                   preds\n",
       "dates                   \n",
       "2018-06-15  10749.052734\n",
       "2018-06-18  10767.470703\n",
       "2018-06-19  10714.447266\n",
       "2018-06-20  10716.439453\n",
       "2018-06-21  10704.143555\n",
       "...                  ...\n",
       "2020-01-27  12151.759766\n",
       "2020-01-28  12014.873047\n",
       "2020-01-29  11931.374023\n",
       "2020-01-30  12016.936523\n",
       "2020-01-31  11934.582031\n",
       "\n",
       "[399 rows x 1 columns]"
      ]
     },
     "execution_count": 67,
     "metadata": {},
     "output_type": "execute_result"
    }
   ],
   "source": [
    "df_pred=df_pred.set_index('dates')\n",
    "df_pred"
   ]
  },
  {
   "cell_type": "code",
   "execution_count": 69,
   "metadata": {},
   "outputs": [
    {
     "data": {
      "text/plain": [
       "[<matplotlib.lines.Line2D at 0x20a9ed9bb20>]"
      ]
     },
     "execution_count": 69,
     "metadata": {},
     "output_type": "execute_result"
    },
    {
     "data": {
      "image/png": "[encoded data removed]",
      "text/plain": [
       "<Figure size 432x288 with 1 Axes>"
      ]
     },
     "metadata": {
      "needs_background": "light"
     },
     "output_type": "display_data"
    }
   ],
   "source": [
    "plt.plot(df_close)\n",
    "plt.plot(df_pred)"
   ]
  },
  {
   "cell_type": "code",
   "execution_count": 62,
   "metadata": {},
   "outputs": [
    {
     "data": {
      "text/html": [
       "<div>\n",
       "<style scoped>\n",
       "    .dataframe tbody tr th:only-of-type {\n",
       "        vertical-align: middle;\n",
       "    }\n",
       "\n",
       "    .dataframe tbody tr th {\n",
       "        vertical-align: top;\n",
       "    }\n",
       "\n",
       "    .dataframe thead th {\n",
       "        text-align: right;\n",
       "    }\n",
       "</style>\n",
       "<table border=\"1\" class=\"dataframe\">\n",
       "  <thead>\n",
       "    <tr style=\"text-align: right;\">\n",
       "      <th></th>\n",
       "      <th>dates</th>\n",
       "    </tr>\n",
       "  </thead>\n",
       "  <tbody>\n",
       "    <tr>\n",
       "      <th>0</th>\n",
       "      <td>2018-06-15</td>\n",
       "    </tr>\n",
       "    <tr>\n",
       "      <th>1</th>\n",
       "      <td>2018-06-18</td>\n",
       "    </tr>\n",
       "    <tr>\n",
       "      <th>2</th>\n",
       "      <td>2018-06-19</td>\n",
       "    </tr>\n",
       "    <tr>\n",
       "      <th>3</th>\n",
       "      <td>2018-06-20</td>\n",
       "    </tr>\n",
       "    <tr>\n",
       "      <th>4</th>\n",
       "      <td>2018-06-21</td>\n",
       "    </tr>\n",
       "    <tr>\n",
       "      <th>...</th>\n",
       "      <td>...</td>\n",
       "    </tr>\n",
       "    <tr>\n",
       "      <th>394</th>\n",
       "      <td>2020-01-27</td>\n",
       "    </tr>\n",
       "    <tr>\n",
       "      <th>395</th>\n",
       "      <td>2020-01-28</td>\n",
       "    </tr>\n",
       "    <tr>\n",
       "      <th>396</th>\n",
       "      <td>2020-01-29</td>\n",
       "    </tr>\n",
       "    <tr>\n",
       "      <th>397</th>\n",
       "      <td>2020-01-30</td>\n",
       "    </tr>\n",
       "    <tr>\n",
       "      <th>398</th>\n",
       "      <td>2020-01-31</td>\n",
       "    </tr>\n",
       "  </tbody>\n",
       "</table>\n",
       "<p>399 rows × 1 columns</p>\n",
       "</div>"
      ],
      "text/plain": [
       "         dates\n",
       "0   2018-06-15\n",
       "1   2018-06-18\n",
       "2   2018-06-19\n",
       "3   2018-06-20\n",
       "4   2018-06-21\n",
       "..         ...\n",
       "394 2020-01-27\n",
       "395 2020-01-28\n",
       "396 2020-01-29\n",
       "397 2020-01-30\n",
       "398 2020-01-31\n",
       "\n",
       "[399 rows x 1 columns]"
      ]
     },
     "execution_count": 62,
     "metadata": {},
     "output_type": "execute_result"
    }
   ],
   "source": [
    "idex_df"
   ]
  },
  {
   "cell_type": "code",
   "execution_count": 38,
   "metadata": {},
   "outputs": [
    {
     "data": {
      "text/plain": [
       "\"model2.save('gru_model')\\nmodel1.save('lstm_model')\""
      ]
     },
     "execution_count": 38,
     "metadata": {},
     "output_type": "execute_result"
    }
   ],
   "source": [
    "\"\"\"model2.save('gru_model')\n",
    "model1.save('lstm_model')\"\"\""
   ]
  },
  {
   "cell_type": "code",
   "execution_count": 37,
   "metadata": {},
   "outputs": [
    {
     "data": {
      "text/plain": [
       "\"model2.save('gru_model.h5')\\nmodel1.save('lstm_model.h5')\""
      ]
     },
     "execution_count": 37,
     "metadata": {},
     "output_type": "execute_result"
    }
   ],
   "source": [
    "\"\"\"model2.save('gru_model.h5')\n",
    "model1.save('lstm_model.h5')\"\"\""
   ]
  },
  {
   "cell_type": "code",
   "execution_count": null,
   "metadata": {},
   "outputs": [],
   "source": []
  }
 ],
 "metadata": {
  "kernelspec": {
   "display_name": "Python 3",
   "language": "python",
   "name": "python3"
  },
  "language_info": {
   "codemirror_mode": {
    "name": "ipython",
    "version": 3
   },
   "file_extension": ".py",
   "mimetype": "text/x-python",
   "name": "python",
   "nbconvert_exporter": "python",
   "pygments_lexer": "ipython3",
   "version": "3.8.1"
  }
 },
 "nbformat": 4,
 "nbformat_minor": 4
}
