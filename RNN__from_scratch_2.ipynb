{
  "nbformat": 4,
  "nbformat_minor": 0,
  "metadata": {
    "kernelspec": {
      "display_name": "Python 3",
      "language": "python",
      "name": "python3"
    },
    "language_info": {
      "codemirror_mode": {
        "name": "ipython",
        "version": 3
      },
      "file_extension": ".py",
      "mimetype": "text/x-python",
      "name": "python",
      "nbconvert_exporter": "python",
      "pygments_lexer": "ipython3",
      "version": "3.8.1"
    },
    "colab": {
      "name": "RNN _from_scratch_2.ipynb",
      "provenance": [],
      "collapsed_sections": []
    }
  },
  "cells": [
    {
      "cell_type": "code",
      "metadata": {
        "id": "dvDmXkC6i3PW"
      },
      "source": [
        "#imports\n",
        "import numpy as np \n",
        "import math\n",
        "\n",
        "import matplotlib.pyplot as plt\n",
        "import pandas as pd\n",
        "from datetime import datetime\n",
        "from sklearn.preprocessing import StandardScaler\n",
        "from sklearn.metrics import mean_absolute_error, mean_squared_error"
      ],
      "execution_count": 43,
      "outputs": []
    },
    {
      "cell_type": "markdown",
      "metadata": {
        "id": "dYzFZwRu0I2A"
      },
      "source": [
        "**Data Prep**"
      ]
    },
    {
      "cell_type": "code",
      "metadata": {
        "id": "-PESQNNfi3Po"
      },
      "source": [
        "df_10= pd.read_csv('nse_10yrs.csv')"
      ],
      "execution_count": 2,
      "outputs": []
    },
    {
      "cell_type": "code",
      "metadata": {
        "id": "vkqI6ftHi3Py"
      },
      "source": [
        "dates=[]\n",
        "for i in range(len(df_10)):\n",
        "    dates.append(datetime.strptime(df_10['Date'][i],\"%d-%m-%Y\"))"
      ],
      "execution_count": 3,
      "outputs": []
    },
    {
      "cell_type": "code",
      "metadata": {
        "id": "BdhTz2iQi3P8"
      },
      "source": [
        "dates=pd.DataFrame({'dates':dates})"
      ],
      "execution_count": 4,
      "outputs": []
    },
    {
      "cell_type": "code",
      "metadata": {
        "id": "YzfGb9D8i3QG"
      },
      "source": [
        "df_10= pd.concat([df_10,dates],axis='columns',copy='False')"
      ],
      "execution_count": 5,
      "outputs": []
    },
    {
      "cell_type": "code",
      "metadata": {
        "id": "IHgtTenJi3QP",
        "outputId": "861383e8-b8d9-45d0-d80d-c8ac3db47b26",
        "colab": {
          "base_uri": "https://localhost:8080/",
          "height": 402
        }
      },
      "source": [
        "df_10"
      ],
      "execution_count": 6,
      "outputs": [
        {
          "output_type": "execute_result",
          "data": {
            "text/html": [
              "<div>\n",
              "<style scoped>\n",
              "    .dataframe tbody tr th:only-of-type {\n",
              "        vertical-align: middle;\n",
              "    }\n",
              "\n",
              "    .dataframe tbody tr th {\n",
              "        vertical-align: top;\n",
              "    }\n",
              "\n",
              "    .dataframe thead th {\n",
              "        text-align: right;\n",
              "    }\n",
              "</style>\n",
              "<table border=\"1\" class=\"dataframe\">\n",
              "  <thead>\n",
              "    <tr style=\"text-align: right;\">\n",
              "      <th></th>\n",
              "      <th>Date</th>\n",
              "      <th>Open</th>\n",
              "      <th>High</th>\n",
              "      <th>Low</th>\n",
              "      <th>Close</th>\n",
              "      <th>Adj Close</th>\n",
              "      <th>Volume</th>\n",
              "      <th>dates</th>\n",
              "    </tr>\n",
              "  </thead>\n",
              "  <tbody>\n",
              "    <tr>\n",
              "      <th>0</th>\n",
              "      <td>01-02-2010</td>\n",
              "      <td>4882.049805</td>\n",
              "      <td>4918.799805</td>\n",
              "      <td>4827.149902</td>\n",
              "      <td>4899.700195</td>\n",
              "      <td>4899.700195</td>\n",
              "      <td>0.0</td>\n",
              "      <td>2010-02-01</td>\n",
              "    </tr>\n",
              "    <tr>\n",
              "      <th>1</th>\n",
              "      <td>02-02-2010</td>\n",
              "      <td>4907.850098</td>\n",
              "      <td>4951.149902</td>\n",
              "      <td>4814.100098</td>\n",
              "      <td>4830.100098</td>\n",
              "      <td>4830.100098</td>\n",
              "      <td>0.0</td>\n",
              "      <td>2010-02-02</td>\n",
              "    </tr>\n",
              "    <tr>\n",
              "      <th>2</th>\n",
              "      <td>03-02-2010</td>\n",
              "      <td>4831.000000</td>\n",
              "      <td>4949.149902</td>\n",
              "      <td>4831.000000</td>\n",
              "      <td>4931.850098</td>\n",
              "      <td>4931.850098</td>\n",
              "      <td>0.0</td>\n",
              "      <td>2010-02-03</td>\n",
              "    </tr>\n",
              "    <tr>\n",
              "      <th>3</th>\n",
              "      <td>04-02-2010</td>\n",
              "      <td>4931.299805</td>\n",
              "      <td>4931.299805</td>\n",
              "      <td>4832.350098</td>\n",
              "      <td>4845.350098</td>\n",
              "      <td>4845.350098</td>\n",
              "      <td>0.0</td>\n",
              "      <td>2010-02-04</td>\n",
              "    </tr>\n",
              "    <tr>\n",
              "      <th>4</th>\n",
              "      <td>05-02-2010</td>\n",
              "      <td>4819.649902</td>\n",
              "      <td>4827.000000</td>\n",
              "      <td>4692.350098</td>\n",
              "      <td>4718.649902</td>\n",
              "      <td>4718.649902</td>\n",
              "      <td>0.0</td>\n",
              "      <td>2010-02-05</td>\n",
              "    </tr>\n",
              "    <tr>\n",
              "      <th>...</th>\n",
              "      <td>...</td>\n",
              "      <td>...</td>\n",
              "      <td>...</td>\n",
              "      <td>...</td>\n",
              "      <td>...</td>\n",
              "      <td>...</td>\n",
              "      <td>...</td>\n",
              "      <td>...</td>\n",
              "    </tr>\n",
              "    <tr>\n",
              "      <th>2468</th>\n",
              "      <td>27-01-2020</td>\n",
              "      <td>12197.099610</td>\n",
              "      <td>12216.599610</td>\n",
              "      <td>12107.000000</td>\n",
              "      <td>12119.000000</td>\n",
              "      <td>12119.000000</td>\n",
              "      <td>441200.0</td>\n",
              "      <td>2020-01-27</td>\n",
              "    </tr>\n",
              "    <tr>\n",
              "      <th>2469</th>\n",
              "      <td>28-01-2020</td>\n",
              "      <td>12148.099610</td>\n",
              "      <td>12163.549810</td>\n",
              "      <td>12024.500000</td>\n",
              "      <td>12055.799810</td>\n",
              "      <td>12055.799810</td>\n",
              "      <td>478500.0</td>\n",
              "      <td>2020-01-28</td>\n",
              "    </tr>\n",
              "    <tr>\n",
              "      <th>2470</th>\n",
              "      <td>29-01-2020</td>\n",
              "      <td>12114.900390</td>\n",
              "      <td>12169.599610</td>\n",
              "      <td>12103.799810</td>\n",
              "      <td>12129.500000</td>\n",
              "      <td>12129.500000</td>\n",
              "      <td>514400.0</td>\n",
              "      <td>2020-01-29</td>\n",
              "    </tr>\n",
              "    <tr>\n",
              "      <th>2471</th>\n",
              "      <td>30-01-2020</td>\n",
              "      <td>12147.750000</td>\n",
              "      <td>12150.299810</td>\n",
              "      <td>12010.599610</td>\n",
              "      <td>12035.799810</td>\n",
              "      <td>12035.799810</td>\n",
              "      <td>538100.0</td>\n",
              "      <td>2020-01-30</td>\n",
              "    </tr>\n",
              "    <tr>\n",
              "      <th>2472</th>\n",
              "      <td>31-01-2020</td>\n",
              "      <td>12100.400390</td>\n",
              "      <td>12103.549810</td>\n",
              "      <td>11945.849610</td>\n",
              "      <td>11962.099610</td>\n",
              "      <td>11962.099610</td>\n",
              "      <td>771300.0</td>\n",
              "      <td>2020-01-31</td>\n",
              "    </tr>\n",
              "  </tbody>\n",
              "</table>\n",
              "<p>2473 rows × 8 columns</p>\n",
              "</div>"
            ],
            "text/plain": [
              "            Date          Open          High  ...     Adj Close    Volume      dates\n",
              "0     01-02-2010   4882.049805   4918.799805  ...   4899.700195       0.0 2010-02-01\n",
              "1     02-02-2010   4907.850098   4951.149902  ...   4830.100098       0.0 2010-02-02\n",
              "2     03-02-2010   4831.000000   4949.149902  ...   4931.850098       0.0 2010-02-03\n",
              "3     04-02-2010   4931.299805   4931.299805  ...   4845.350098       0.0 2010-02-04\n",
              "4     05-02-2010   4819.649902   4827.000000  ...   4718.649902       0.0 2010-02-05\n",
              "...          ...           ...           ...  ...           ...       ...        ...\n",
              "2468  27-01-2020  12197.099610  12216.599610  ...  12119.000000  441200.0 2020-01-27\n",
              "2469  28-01-2020  12148.099610  12163.549810  ...  12055.799810  478500.0 2020-01-28\n",
              "2470  29-01-2020  12114.900390  12169.599610  ...  12129.500000  514400.0 2020-01-29\n",
              "2471  30-01-2020  12147.750000  12150.299810  ...  12035.799810  538100.0 2020-01-30\n",
              "2472  31-01-2020  12100.400390  12103.549810  ...  11962.099610  771300.0 2020-01-31\n",
              "\n",
              "[2473 rows x 8 columns]"
            ]
          },
          "metadata": {
            "tags": []
          },
          "execution_count": 6
        }
      ]
    },
    {
      "cell_type": "code",
      "metadata": {
        "id": "n0__JQ75i3Qb",
        "outputId": "17765565-0d12-45d5-c05d-de3ac8aaa31e",
        "colab": {
          "base_uri": "https://localhost:8080/",
          "height": 431
        }
      },
      "source": [
        "df_10['dates']=pd.to_datetime(df_10['dates'])\n",
        "df_10=df_10.set_index('dates')\n",
        "df_10"
      ],
      "execution_count": 7,
      "outputs": [
        {
          "output_type": "execute_result",
          "data": {
            "text/html": [
              "<div>\n",
              "<style scoped>\n",
              "    .dataframe tbody tr th:only-of-type {\n",
              "        vertical-align: middle;\n",
              "    }\n",
              "\n",
              "    .dataframe tbody tr th {\n",
              "        vertical-align: top;\n",
              "    }\n",
              "\n",
              "    .dataframe thead th {\n",
              "        text-align: right;\n",
              "    }\n",
              "</style>\n",
              "<table border=\"1\" class=\"dataframe\">\n",
              "  <thead>\n",
              "    <tr style=\"text-align: right;\">\n",
              "      <th></th>\n",
              "      <th>Date</th>\n",
              "      <th>Open</th>\n",
              "      <th>High</th>\n",
              "      <th>Low</th>\n",
              "      <th>Close</th>\n",
              "      <th>Adj Close</th>\n",
              "      <th>Volume</th>\n",
              "    </tr>\n",
              "    <tr>\n",
              "      <th>dates</th>\n",
              "      <th></th>\n",
              "      <th></th>\n",
              "      <th></th>\n",
              "      <th></th>\n",
              "      <th></th>\n",
              "      <th></th>\n",
              "      <th></th>\n",
              "    </tr>\n",
              "  </thead>\n",
              "  <tbody>\n",
              "    <tr>\n",
              "      <th>2010-02-01</th>\n",
              "      <td>01-02-2010</td>\n",
              "      <td>4882.049805</td>\n",
              "      <td>4918.799805</td>\n",
              "      <td>4827.149902</td>\n",
              "      <td>4899.700195</td>\n",
              "      <td>4899.700195</td>\n",
              "      <td>0.0</td>\n",
              "    </tr>\n",
              "    <tr>\n",
              "      <th>2010-02-02</th>\n",
              "      <td>02-02-2010</td>\n",
              "      <td>4907.850098</td>\n",
              "      <td>4951.149902</td>\n",
              "      <td>4814.100098</td>\n",
              "      <td>4830.100098</td>\n",
              "      <td>4830.100098</td>\n",
              "      <td>0.0</td>\n",
              "    </tr>\n",
              "    <tr>\n",
              "      <th>2010-02-03</th>\n",
              "      <td>03-02-2010</td>\n",
              "      <td>4831.000000</td>\n",
              "      <td>4949.149902</td>\n",
              "      <td>4831.000000</td>\n",
              "      <td>4931.850098</td>\n",
              "      <td>4931.850098</td>\n",
              "      <td>0.0</td>\n",
              "    </tr>\n",
              "    <tr>\n",
              "      <th>2010-02-04</th>\n",
              "      <td>04-02-2010</td>\n",
              "      <td>4931.299805</td>\n",
              "      <td>4931.299805</td>\n",
              "      <td>4832.350098</td>\n",
              "      <td>4845.350098</td>\n",
              "      <td>4845.350098</td>\n",
              "      <td>0.0</td>\n",
              "    </tr>\n",
              "    <tr>\n",
              "      <th>2010-02-05</th>\n",
              "      <td>05-02-2010</td>\n",
              "      <td>4819.649902</td>\n",
              "      <td>4827.000000</td>\n",
              "      <td>4692.350098</td>\n",
              "      <td>4718.649902</td>\n",
              "      <td>4718.649902</td>\n",
              "      <td>0.0</td>\n",
              "    </tr>\n",
              "    <tr>\n",
              "      <th>...</th>\n",
              "      <td>...</td>\n",
              "      <td>...</td>\n",
              "      <td>...</td>\n",
              "      <td>...</td>\n",
              "      <td>...</td>\n",
              "      <td>...</td>\n",
              "      <td>...</td>\n",
              "    </tr>\n",
              "    <tr>\n",
              "      <th>2020-01-27</th>\n",
              "      <td>27-01-2020</td>\n",
              "      <td>12197.099610</td>\n",
              "      <td>12216.599610</td>\n",
              "      <td>12107.000000</td>\n",
              "      <td>12119.000000</td>\n",
              "      <td>12119.000000</td>\n",
              "      <td>441200.0</td>\n",
              "    </tr>\n",
              "    <tr>\n",
              "      <th>2020-01-28</th>\n",
              "      <td>28-01-2020</td>\n",
              "      <td>12148.099610</td>\n",
              "      <td>12163.549810</td>\n",
              "      <td>12024.500000</td>\n",
              "      <td>12055.799810</td>\n",
              "      <td>12055.799810</td>\n",
              "      <td>478500.0</td>\n",
              "    </tr>\n",
              "    <tr>\n",
              "      <th>2020-01-29</th>\n",
              "      <td>29-01-2020</td>\n",
              "      <td>12114.900390</td>\n",
              "      <td>12169.599610</td>\n",
              "      <td>12103.799810</td>\n",
              "      <td>12129.500000</td>\n",
              "      <td>12129.500000</td>\n",
              "      <td>514400.0</td>\n",
              "    </tr>\n",
              "    <tr>\n",
              "      <th>2020-01-30</th>\n",
              "      <td>30-01-2020</td>\n",
              "      <td>12147.750000</td>\n",
              "      <td>12150.299810</td>\n",
              "      <td>12010.599610</td>\n",
              "      <td>12035.799810</td>\n",
              "      <td>12035.799810</td>\n",
              "      <td>538100.0</td>\n",
              "    </tr>\n",
              "    <tr>\n",
              "      <th>2020-01-31</th>\n",
              "      <td>31-01-2020</td>\n",
              "      <td>12100.400390</td>\n",
              "      <td>12103.549810</td>\n",
              "      <td>11945.849610</td>\n",
              "      <td>11962.099610</td>\n",
              "      <td>11962.099610</td>\n",
              "      <td>771300.0</td>\n",
              "    </tr>\n",
              "  </tbody>\n",
              "</table>\n",
              "<p>2473 rows × 7 columns</p>\n",
              "</div>"
            ],
            "text/plain": [
              "                  Date          Open  ...     Adj Close    Volume\n",
              "dates                                 ...                        \n",
              "2010-02-01  01-02-2010   4882.049805  ...   4899.700195       0.0\n",
              "2010-02-02  02-02-2010   4907.850098  ...   4830.100098       0.0\n",
              "2010-02-03  03-02-2010   4831.000000  ...   4931.850098       0.0\n",
              "2010-02-04  04-02-2010   4931.299805  ...   4845.350098       0.0\n",
              "2010-02-05  05-02-2010   4819.649902  ...   4718.649902       0.0\n",
              "...                ...           ...  ...           ...       ...\n",
              "2020-01-27  27-01-2020  12197.099610  ...  12119.000000  441200.0\n",
              "2020-01-28  28-01-2020  12148.099610  ...  12055.799810  478500.0\n",
              "2020-01-29  29-01-2020  12114.900390  ...  12129.500000  514400.0\n",
              "2020-01-30  30-01-2020  12147.750000  ...  12035.799810  538100.0\n",
              "2020-01-31  31-01-2020  12100.400390  ...  11962.099610  771300.0\n",
              "\n",
              "[2473 rows x 7 columns]"
            ]
          },
          "metadata": {
            "tags": []
          },
          "execution_count": 7
        }
      ]
    },
    {
      "cell_type": "code",
      "metadata": {
        "id": "13XXaGuMi3Qm",
        "outputId": "78d76326-05fb-4814-c863-5207c1d2482c",
        "colab": {
          "base_uri": "https://localhost:8080/",
          "height": 34
        }
      },
      "source": [
        "df_10=df_10.dropna(axis=\"rows\")\n",
        "df_10.isnull().sum()\n",
        "df_10.shape"
      ],
      "execution_count": 8,
      "outputs": [
        {
          "output_type": "execute_result",
          "data": {
            "text/plain": [
              "(2449, 7)"
            ]
          },
          "metadata": {
            "tags": []
          },
          "execution_count": 8
        }
      ]
    },
    {
      "cell_type": "code",
      "metadata": {
        "id": "7qCRRTGYi3Qv",
        "outputId": "d826e81b-1e51-4d4c-c8bf-404047cb935e",
        "colab": {
          "base_uri": "https://localhost:8080/",
          "height": 235
        }
      },
      "source": [
        "df_close=df_10.iloc[:,4]\n",
        "df_close"
      ],
      "execution_count": 9,
      "outputs": [
        {
          "output_type": "execute_result",
          "data": {
            "text/plain": [
              "dates\n",
              "2010-02-01     4899.700195\n",
              "2010-02-02     4830.100098\n",
              "2010-02-03     4931.850098\n",
              "2010-02-04     4845.350098\n",
              "2010-02-05     4718.649902\n",
              "                  ...     \n",
              "2020-01-27    12119.000000\n",
              "2020-01-28    12055.799810\n",
              "2020-01-29    12129.500000\n",
              "2020-01-30    12035.799810\n",
              "2020-01-31    11962.099610\n",
              "Name: Close, Length: 2449, dtype: float64"
            ]
          },
          "metadata": {
            "tags": []
          },
          "execution_count": 9
        }
      ]
    },
    {
      "cell_type": "code",
      "metadata": {
        "id": "2f3wd5Zai3Q4",
        "outputId": "ef698878-8e6b-48e3-c78b-8596dd22a245",
        "colab": {
          "base_uri": "https://localhost:8080/",
          "height": 282
        }
      },
      "source": [
        "plt.plot(df_close)"
      ],
      "execution_count": 10,
      "outputs": [
        {
          "output_type": "execute_result",
          "data": {
            "text/plain": [
              "[<matplotlib.lines.Line2D at 0x7f490e4fa0b8>]"
            ]
          },
          "metadata": {
            "tags": []
          },
          "execution_count": 10
        },
        {
          "output_type": "display_data",
          "data": {
            "image/png": "[encoded data removed]",
            "text/plain": [
              "<Figure size 432x288 with 1 Axes>"
            ]
          },
          "metadata": {
            "tags": [],
            "needs_background": "light"
          }
        }
      ]
    },
    {
      "cell_type": "code",
      "metadata": {
        "id": "xY1biwJNi3Q_"
      },
      "source": [
        "def create_dataset(X, y, time_steps=1):\n",
        "    Xs, ys = [], []\n",
        "    for i in range(len(X) - time_steps):\n",
        "        v = X[i:(i + time_steps)]\n",
        "        Xs.append(v)\n",
        "        ys.append(y[i + time_steps])\n",
        "    return np.array(Xs), np.array(ys)"
      ],
      "execution_count": 11,
      "outputs": []
    },
    {
      "cell_type": "markdown",
      "metadata": {
        "id": "K09myo9o0Oah"
      },
      "source": [
        "**Normalizing the Data**"
      ]
    },
    {
      "cell_type": "code",
      "metadata": {
        "id": "0ZA2nYc9i3RF"
      },
      "source": [
        "sc=StandardScaler()\n",
        "\n",
        "df_close_scaled= sc.fit_transform(df_close.values.reshape(-1, 1))\n"
      ],
      "execution_count": 12,
      "outputs": []
    },
    {
      "cell_type": "code",
      "metadata": {
        "id": "QI8yRJlxi3RJ"
      },
      "source": [
        "df_train=df_close_scaled[0:2000]\n",
        "df_test= df_close_scaled[2000:]"
      ],
      "execution_count": 13,
      "outputs": []
    },
    {
      "cell_type": "code",
      "metadata": {
        "id": "xeItDGYIi3RN"
      },
      "source": [
        "X,Y=create_dataset(df_train,df_train,time_steps=50)\n",
        "X_val,y_val=create_dataset(df_test,df_test,time_steps=50)"
      ],
      "execution_count": 14,
      "outputs": []
    },
    {
      "cell_type": "markdown",
      "metadata": {
        "id": "8J4_0EVL0a_1"
      },
      "source": [
        "**Setting up hyper parameters**"
      ]
    },
    {
      "cell_type": "code",
      "metadata": {
        "id": "z6OjvcK3i3RZ"
      },
      "source": [
        "learning_rate = 0.0001    \n",
        "nepoch = 25               \n",
        "T = 50                   # length of sequence\n",
        "hidden_dim = 200         \n",
        "output_dim = 1\n",
        "\n",
        "bptt_truncate = 5\n",
        "min_clip_value = -10\n",
        "max_clip_value = 10"
      ],
      "execution_count": 27,
      "outputs": []
    },
    {
      "cell_type": "markdown",
      "metadata": {
        "id": "qyS8OSbj0gng"
      },
      "source": [
        "**Xavier Initialization**\n"
      ]
    },
    {
      "cell_type": "code",
      "metadata": {
        "id": "hR4lXu69i3Rf",
        "outputId": "351d8a1c-a894-4040-b635-59a70f58c08f",
        "colab": {
          "base_uri": "https://localhost:8080/",
          "height": 34
        }
      },
      "source": [
        "scale = 1/max(1., (2+2)/2.)\n",
        "limit = math.sqrt(3.0 * scale)\n",
        "weights = np.random.uniform(-limit, limit, size=(hidden_dim,T))\n",
        "weights.shape\n",
        "\n",
        "\n"
      ],
      "execution_count": 18,
      "outputs": [
        {
          "output_type": "stream",
          "text": [
            "yes\n"
          ],
          "name": "stdout"
        }
      ]
    },
    {
      "cell_type": "code",
      "metadata": {
        "id": "SIGmLj5_i3Ri",
        "outputId": "76980fe3-de56-4916-a66e-93a8ef1852d4",
        "colab": {
          "base_uri": "https://localhost:8080/",
          "height": 34
        }
      },
      "source": [
        "U = np.random.uniform(0, 1, (hidden_dim, T))\n",
        "W = np.random.uniform(0, 1, (hidden_dim, hidden_dim))\n",
        "V = np.random.uniform(0, 1, (output_dim, hidden_dim))\n",
        "\n"
      ],
      "execution_count": 19,
      "outputs": [
        {
          "output_type": "stream",
          "text": [
            "yes\n"
          ],
          "name": "stdout"
        }
      ]
    },
    {
      "cell_type": "code",
      "metadata": {
        "id": "Hu1VPBPKkXGV"
      },
      "source": [
        "U=np.random.uniform(-limit, limit, size=(hidden_dim,T))\n",
        "W= np.random.uniform(-limit, limit, size=(hidden_dim,hidden_dim))\n",
        "V= np.random.uniform(-limit, limit, size=(output_dim ,hidden_dim))"
      ],
      "execution_count": 21,
      "outputs": []
    },
    {
      "cell_type": "code",
      "metadata": {
        "id": "fCLFtS2Ti3Rl",
        "outputId": "57102c6e-17fe-43ca-f304-8e63950e723f",
        "colab": {
          "base_uri": "https://localhost:8080/",
          "height": 34
        }
      },
      "source": [
        "U.shape"
      ],
      "execution_count": 22,
      "outputs": [
        {
          "output_type": "execute_result",
          "data": {
            "text/plain": [
              "(200, 50)"
            ]
          },
          "metadata": {
            "tags": []
          },
          "execution_count": 22
        }
      ]
    },
    {
      "cell_type": "code",
      "metadata": {
        "id": "xg1y73eki3Rn"
      },
      "source": [
        "def sigmoid(x):\n",
        "    return 1 / (1 + np.exp(-x))"
      ],
      "execution_count": 23,
      "outputs": []
    },
    {
      "cell_type": "code",
      "metadata": {
        "id": "YQIFiQGii3Rq"
      },
      "source": [
        "losses=[]"
      ],
      "execution_count": 24,
      "outputs": []
    },
    {
      "cell_type": "markdown",
      "metadata": {
        "id": "jJ4qP2C90sWS"
      },
      "source": [
        "**Training**"
      ]
    },
    {
      "cell_type": "code",
      "metadata": {
        "id": "i3FF_ZoYi3Rt",
        "outputId": "4153ff56-bb30-4f45-fc3f-f630ba506f4e",
        "colab": {
          "base_uri": "https://localhost:8080/",
          "height": 437
        }
      },
      "source": [
        "for epoch in range(nepoch):\n",
        "    # check loss on train\n",
        "    loss = 0.0\n",
        "    \n",
        "    # do a forward pass to get prediction\n",
        "    for i in range(Y.shape[0]):\n",
        "        x, y = X[i], Y[i]                    # get input, output values of each record\n",
        "        prev_s = np.zeros((hidden_dim, 1))   # here, prev-s is the value of the previous activation of hidden layer; which is initialized as all zeroes\n",
        "        for t in range(T):\n",
        "            new_input = np.zeros(x.shape)    # we then do a forward pass for every timestep in the sequence\n",
        "            new_input[t] = x[t]              # for this, we define a single input for that timestep\n",
        "            mulu = np.dot(U, new_input)\n",
        "            mulw = np.dot(W, prev_s)\n",
        "            add = mulw + mulu\n",
        "            s = sigmoid(add)\n",
        "            mulv = np.dot(V, s)\n",
        "            prev_s = s\n",
        "\n",
        "    # calculate error \n",
        "        loss_per_record = (y - mulv)**2 / 2\n",
        "        loss += loss_per_record\n",
        "    loss = loss / float(y.shape[0])\n",
        "  \n",
        "    losses.append(loss)\n",
        "    print('Epoch: ', epoch + 1, ', Loss: ', loss)\n",
        "    \n",
        "    # train model\n",
        "    for i in range(Y.shape[0]):\n",
        "        x, y = X[i], Y[i]\n",
        "    \n",
        "        layers = []\n",
        "        prev_s = np.zeros((hidden_dim, 1))\n",
        "        dU = np.zeros(U.shape)\n",
        "        dV = np.zeros(V.shape)\n",
        "        dW = np.zeros(W.shape)\n",
        "        \n",
        "        dU_t = np.zeros(U.shape)\n",
        "        dV_t = np.zeros(V.shape)\n",
        "        dW_t = np.zeros(W.shape)\n",
        "        \n",
        "        dU_i = np.zeros(U.shape)\n",
        "        dW_i = np.zeros(W.shape)\n",
        "        \n",
        "        # forward pass\n",
        "        for t in range(T):\n",
        "            new_input = np.zeros(x.shape)\n",
        "            new_input[t] = x[t]\n",
        "            mulu = np.dot(U, new_input)\n",
        "            mulw = np.dot(W, prev_s)\n",
        "            add = mulw + mulu\n",
        "            s = sigmoid(add)\n",
        "            mulv = np.dot(V, s)\n",
        "            layers.append({'s':s, 'prev_s':prev_s})\n",
        "            prev_s = s\n",
        "            \n",
        "        # derivative of pred\n",
        "        dmulv = (mulv - y)\n",
        "        \n",
        "        # backward pass\n",
        "        for t in range(T):\n",
        "            dV_t = np.dot(dmulv, np.transpose(layers[t]['s']))\n",
        "            dsv = np.dot(np.transpose(V), dmulv)\n",
        "            \n",
        "            ds = dsv\n",
        "            dadd = add * (1 - add) * ds\n",
        "            \n",
        "            dmulw = dadd * np.ones_like(mulw)\n",
        "\n",
        "            dprev_s = np.dot(np.transpose(W), dmulw)\n",
        "\n",
        "\n",
        "            for i in range(t-1, max(-1, t-bptt_truncate-1), -1):\n",
        "                ds = dsv + dprev_s\n",
        "                dadd = add * (1 - add) * ds\n",
        "\n",
        "                dmulw = dadd * np.ones_like(mulw)\n",
        "                dmulu = dadd * np.ones_like(mulu)\n",
        "\n",
        "                dW_i = np.dot(W, layers[t]['prev_s'])\n",
        "                dprev_s = np.dot(np.transpose(W), dmulw)\n",
        "\n",
        "                new_input = np.zeros(x.shape)\n",
        "                new_input[t] = x[t]\n",
        "                dU_i = np.dot(U, new_input)\n",
        "                dx = np.dot(np.transpose(U), dmulu)\n",
        "\n",
        "                dU_t += dU_i\n",
        "                dW_t += dW_i\n",
        "                \n",
        "            dV += dV_t\n",
        "            dU += dU_t\n",
        "            dW += dW_t\n",
        "            \n",
        "            if dU.max() > max_clip_value:\n",
        "                dU[dU > max_clip_value] = max_clip_value\n",
        "            if dV.max() > max_clip_value:\n",
        "                dV[dV > max_clip_value] = max_clip_value\n",
        "            if dW.max() > max_clip_value:\n",
        "                dW[dW > max_clip_value] = max_clip_value\n",
        "                \n",
        "            \n",
        "            if dU.min() < min_clip_value:\n",
        "                dU[dU < min_clip_value] = min_clip_value\n",
        "            if dV.min() < min_clip_value:\n",
        "                dV[dV < min_clip_value] = min_clip_value\n",
        "            if dW.min() < min_clip_value:\n",
        "                dW[dW < min_clip_value] = min_clip_value\n",
        "        \n",
        "        # update\n",
        "        U -= learning_rate * dU\n",
        "        V -= learning_rate * dV\n",
        "        W -= learning_rate * dW"
      ],
      "execution_count": 28,
      "outputs": [
        {
          "output_type": "stream",
          "text": [
            "Epoch:  1 , Loss:  [[1189.14434093]]\n",
            "Epoch:  2 , Loss:  [[781.52663554]]\n",
            "Epoch:  3 , Loss:  [[798.28885098]]\n",
            "Epoch:  4 , Loss:  [[763.66694432]]\n",
            "Epoch:  5 , Loss:  [[881.15696491]]\n",
            "Epoch:  6 , Loss:  [[811.73719929]]\n",
            "Epoch:  7 , Loss:  [[799.9018402]]\n",
            "Epoch:  8 , Loss:  [[759.05485972]]\n",
            "Epoch:  9 , Loss:  [[751.08584477]]\n",
            "Epoch:  10 , Loss:  [[838.52777795]]\n",
            "Epoch:  11 , Loss:  [[805.8714004]]\n",
            "Epoch:  12 , Loss:  [[765.49193669]]\n",
            "Epoch:  13 , Loss:  [[795.25356164]]\n",
            "Epoch:  14 , Loss:  [[789.08359558]]\n",
            "Epoch:  15 , Loss:  [[779.60189994]]\n",
            "Epoch:  16 , Loss:  [[812.97667382]]\n",
            "Epoch:  17 , Loss:  [[772.13932956]]\n",
            "Epoch:  18 , Loss:  [[768.97425381]]\n",
            "Epoch:  19 , Loss:  [[851.26853575]]\n",
            "Epoch:  20 , Loss:  [[779.1426333]]\n",
            "Epoch:  21 , Loss:  [[780.79179632]]\n",
            "Epoch:  22 , Loss:  [[811.44964177]]\n",
            "Epoch:  23 , Loss:  [[811.35341115]]\n",
            "Epoch:  24 , Loss:  [[1015.6007158]]\n",
            "Epoch:  25 , Loss:  [[787.1956222]]\n"
          ],
          "name": "stdout"
        }
      ]
    },
    {
      "cell_type": "code",
      "metadata": {
        "id": "JkymTIoAi3Rv",
        "outputId": "62ab3d59-852f-4cc9-fee0-0da7e8033e01",
        "colab": {
          "base_uri": "https://localhost:8080/",
          "height": 622
        }
      },
      "source": [
        "losses\n"
      ],
      "execution_count": 29,
      "outputs": [
        {
          "output_type": "execute_result",
          "data": {
            "text/plain": [
              "[array([[33661.0353852]]),\n",
              " array([[66177.05276455]]),\n",
              " array([[5537.20328993]]),\n",
              " array([[47280.03379166]]),\n",
              " array([[82365.37642562]]),\n",
              " array([[65565.28865065]]),\n",
              " array([[40934.33788576]]),\n",
              " array([[4269.77669606]]),\n",
              " array([[1531.12928223]]),\n",
              " array([[13327.88333881]]),\n",
              " array([[4995.01426689]]),\n",
              " array([[1189.14434093]]),\n",
              " array([[781.52663554]]),\n",
              " array([[798.28885098]]),\n",
              " array([[763.66694432]]),\n",
              " array([[881.15696491]]),\n",
              " array([[811.73719929]]),\n",
              " array([[799.9018402]]),\n",
              " array([[759.05485972]]),\n",
              " array([[751.08584477]]),\n",
              " array([[838.52777795]]),\n",
              " array([[805.8714004]]),\n",
              " array([[765.49193669]]),\n",
              " array([[795.25356164]]),\n",
              " array([[789.08359558]]),\n",
              " array([[779.60189994]]),\n",
              " array([[812.97667382]]),\n",
              " array([[772.13932956]]),\n",
              " array([[768.97425381]]),\n",
              " array([[851.26853575]]),\n",
              " array([[779.1426333]]),\n",
              " array([[780.79179632]]),\n",
              " array([[811.44964177]]),\n",
              " array([[811.35341115]]),\n",
              " array([[1015.6007158]]),\n",
              " array([[787.1956222]])]"
            ]
          },
          "metadata": {
            "tags": []
          },
          "execution_count": 29
        }
      ]
    },
    {
      "cell_type": "markdown",
      "metadata": {
        "id": "lqfo64a20ymV"
      },
      "source": [
        "**Predictions**"
      ]
    },
    {
      "cell_type": "code",
      "metadata": {
        "id": "XC60Wjv4qPKo"
      },
      "source": [
        "from scipy.special import expit\n",
        "\n",
        "\n",
        "preds = []\n",
        "for i in range(y_val.shape[0]):\n",
        "    x, y = X_val[i], y_val[i]\n",
        "    prev_s = np.zeros((hidden_dim, 1))\n",
        "    # Forward pass\n",
        "    for t in range(T):\n",
        "        mulu = np.dot(U, x)\n",
        "        mulw = np.dot(W, prev_s)\n",
        "        add = mulw + mulu\n",
        "        s = expit(add)\n",
        "        mulv = np.dot(V, s)\n",
        "        prev_s = s\n",
        "\n",
        "    preds.append(mulv)\n",
        "    \n",
        "preds = np.array(preds)"
      ],
      "execution_count": 35,
      "outputs": []
    },
    {
      "cell_type": "code",
      "metadata": {
        "id": "yeB3SaTi22I2"
      },
      "source": [
        "preds_scaled= sc.inverse_transform(preds)"
      ],
      "execution_count": 37,
      "outputs": []
    },
    {
      "cell_type": "code",
      "metadata": {
        "id": "XU_AaDRd4zyB",
        "outputId": "94d78f58-9df4-47fc-92ae-b459e541c983",
        "colab": {
          "base_uri": "https://localhost:8080/",
          "height": 34
        }
      },
      "source": [
        "mean_squared_error(y_val,preds_scaled),mean_absolute_error(y_val,preds_scaled)"
      ],
      "execution_count": 46,
      "outputs": [
        {
          "output_type": "execute_result",
          "data": {
            "text/plain": [
              "(103453373.1522158, 10171.203129151221)"
            ]
          },
          "metadata": {
            "tags": []
          },
          "execution_count": 46
        }
      ]
    },
    {
      "cell_type": "code",
      "metadata": {
        "id": "wABA74s-2-mR"
      },
      "source": [
        ""
      ],
      "execution_count": 46,
      "outputs": []
    },
    {
      "cell_type": "code",
      "metadata": {
        "id": "sNb3FDWI37nq"
      },
      "source": [
        ""
      ],
      "execution_count": null,
      "outputs": []
    }
  ]
}