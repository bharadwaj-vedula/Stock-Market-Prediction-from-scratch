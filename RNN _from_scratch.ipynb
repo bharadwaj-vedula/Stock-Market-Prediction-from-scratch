{
 "cells": [
  {
   "cell_type": "code",
   "execution_count": 19,
   "metadata": {},
   "outputs": [],
   "source": [
    "import numpy as np \n",
    "import math\n",
    "import matplotlib.pyplot as plt\n",
    "import pandas as pd\n",
    "from datetime import datetime\n",
    "from sklearn.preprocessing import StandardScaler\n"
   ]
  },
  {
   "cell_type": "code",
   "execution_count": 7,
   "metadata": {},
   "outputs": [],
   "source": [
    "df_10= pd.read_csv('nse_10yrs.csv')"
   ]
  },
  {
   "cell_type": "code",
   "execution_count": 8,
   "metadata": {},
   "outputs": [],
   "source": [
    "dates=[]\n",
    "for i in range(len(df_10)):\n",
    "    dates.append(datetime.strptime(df_10['Date'][i],\"%d-%m-%Y\"))"
   ]
  },
  {
   "cell_type": "code",
   "execution_count": 9,
   "metadata": {},
   "outputs": [],
   "source": [
    "dates=pd.DataFrame({'dates':dates})"
   ]
  },
  {
   "cell_type": "code",
   "execution_count": 10,
   "metadata": {},
   "outputs": [],
   "source": [
    "df_10= pd.concat([df_10,dates],axis='columns',copy='False')"
   ]
  },
  {
   "cell_type": "code",
   "execution_count": 11,
   "metadata": {},
   "outputs": [
    {
     "data": {
      "text/html": [
       "<div>\n",
       "<style scoped>\n",
       "    .dataframe tbody tr th:only-of-type {\n",
       "        vertical-align: middle;\n",
       "    }\n",
       "\n",
       "    .dataframe tbody tr th {\n",
       "        vertical-align: top;\n",
       "    }\n",
       "\n",
       "    .dataframe thead th {\n",
       "        text-align: right;\n",
       "    }\n",
       "</style>\n",
       "<table border=\"1\" class=\"dataframe\">\n",
       "  <thead>\n",
       "    <tr style=\"text-align: right;\">\n",
       "      <th></th>\n",
       "      <th>Date</th>\n",
       "      <th>Open</th>\n",
       "      <th>High</th>\n",
       "      <th>Low</th>\n",
       "      <th>Close</th>\n",
       "      <th>Adj Close</th>\n",
       "      <th>Volume</th>\n",
       "      <th>dates</th>\n",
       "    </tr>\n",
       "  </thead>\n",
       "  <tbody>\n",
       "    <tr>\n",
       "      <th>0</th>\n",
       "      <td>01-02-2010</td>\n",
       "      <td>4882.049805</td>\n",
       "      <td>4918.799805</td>\n",
       "      <td>4827.149902</td>\n",
       "      <td>4899.700195</td>\n",
       "      <td>4899.700195</td>\n",
       "      <td>0.0</td>\n",
       "      <td>2010-02-01</td>\n",
       "    </tr>\n",
       "    <tr>\n",
       "      <th>1</th>\n",
       "      <td>02-02-2010</td>\n",
       "      <td>4907.850098</td>\n",
       "      <td>4951.149902</td>\n",
       "      <td>4814.100098</td>\n",
       "      <td>4830.100098</td>\n",
       "      <td>4830.100098</td>\n",
       "      <td>0.0</td>\n",
       "      <td>2010-02-02</td>\n",
       "    </tr>\n",
       "    <tr>\n",
       "      <th>2</th>\n",
       "      <td>03-02-2010</td>\n",
       "      <td>4831.000000</td>\n",
       "      <td>4949.149902</td>\n",
       "      <td>4831.000000</td>\n",
       "      <td>4931.850098</td>\n",
       "      <td>4931.850098</td>\n",
       "      <td>0.0</td>\n",
       "      <td>2010-02-03</td>\n",
       "    </tr>\n",
       "    <tr>\n",
       "      <th>3</th>\n",
       "      <td>04-02-2010</td>\n",
       "      <td>4931.299805</td>\n",
       "      <td>4931.299805</td>\n",
       "      <td>4832.350098</td>\n",
       "      <td>4845.350098</td>\n",
       "      <td>4845.350098</td>\n",
       "      <td>0.0</td>\n",
       "      <td>2010-02-04</td>\n",
       "    </tr>\n",
       "    <tr>\n",
       "      <th>4</th>\n",
       "      <td>05-02-2010</td>\n",
       "      <td>4819.649902</td>\n",
       "      <td>4827.000000</td>\n",
       "      <td>4692.350098</td>\n",
       "      <td>4718.649902</td>\n",
       "      <td>4718.649902</td>\n",
       "      <td>0.0</td>\n",
       "      <td>2010-02-05</td>\n",
       "    </tr>\n",
       "    <tr>\n",
       "      <th>...</th>\n",
       "      <td>...</td>\n",
       "      <td>...</td>\n",
       "      <td>...</td>\n",
       "      <td>...</td>\n",
       "      <td>...</td>\n",
       "      <td>...</td>\n",
       "      <td>...</td>\n",
       "      <td>...</td>\n",
       "    </tr>\n",
       "    <tr>\n",
       "      <th>2468</th>\n",
       "      <td>27-01-2020</td>\n",
       "      <td>12197.099610</td>\n",
       "      <td>12216.599610</td>\n",
       "      <td>12107.000000</td>\n",
       "      <td>12119.000000</td>\n",
       "      <td>12119.000000</td>\n",
       "      <td>441200.0</td>\n",
       "      <td>2020-01-27</td>\n",
       "    </tr>\n",
       "    <tr>\n",
       "      <th>2469</th>\n",
       "      <td>28-01-2020</td>\n",
       "      <td>12148.099610</td>\n",
       "      <td>12163.549810</td>\n",
       "      <td>12024.500000</td>\n",
       "      <td>12055.799810</td>\n",
       "      <td>12055.799810</td>\n",
       "      <td>478500.0</td>\n",
       "      <td>2020-01-28</td>\n",
       "    </tr>\n",
       "    <tr>\n",
       "      <th>2470</th>\n",
       "      <td>29-01-2020</td>\n",
       "      <td>12114.900390</td>\n",
       "      <td>12169.599610</td>\n",
       "      <td>12103.799810</td>\n",
       "      <td>12129.500000</td>\n",
       "      <td>12129.500000</td>\n",
       "      <td>514400.0</td>\n",
       "      <td>2020-01-29</td>\n",
       "    </tr>\n",
       "    <tr>\n",
       "      <th>2471</th>\n",
       "      <td>30-01-2020</td>\n",
       "      <td>12147.750000</td>\n",
       "      <td>12150.299810</td>\n",
       "      <td>12010.599610</td>\n",
       "      <td>12035.799810</td>\n",
       "      <td>12035.799810</td>\n",
       "      <td>538100.0</td>\n",
       "      <td>2020-01-30</td>\n",
       "    </tr>\n",
       "    <tr>\n",
       "      <th>2472</th>\n",
       "      <td>31-01-2020</td>\n",
       "      <td>12100.400390</td>\n",
       "      <td>12103.549810</td>\n",
       "      <td>11945.849610</td>\n",
       "      <td>11962.099610</td>\n",
       "      <td>11962.099610</td>\n",
       "      <td>771300.0</td>\n",
       "      <td>2020-01-31</td>\n",
       "    </tr>\n",
       "  </tbody>\n",
       "</table>\n",
       "<p>2473 rows × 8 columns</p>\n",
       "</div>"
      ],
      "text/plain": [
       "            Date          Open          High           Low         Close  \\\n",
       "0     01-02-2010   4882.049805   4918.799805   4827.149902   4899.700195   \n",
       "1     02-02-2010   4907.850098   4951.149902   4814.100098   4830.100098   \n",
       "2     03-02-2010   4831.000000   4949.149902   4831.000000   4931.850098   \n",
       "3     04-02-2010   4931.299805   4931.299805   4832.350098   4845.350098   \n",
       "4     05-02-2010   4819.649902   4827.000000   4692.350098   4718.649902   \n",
       "...          ...           ...           ...           ...           ...   \n",
       "2468  27-01-2020  12197.099610  12216.599610  12107.000000  12119.000000   \n",
       "2469  28-01-2020  12148.099610  12163.549810  12024.500000  12055.799810   \n",
       "2470  29-01-2020  12114.900390  12169.599610  12103.799810  12129.500000   \n",
       "2471  30-01-2020  12147.750000  12150.299810  12010.599610  12035.799810   \n",
       "2472  31-01-2020  12100.400390  12103.549810  11945.849610  11962.099610   \n",
       "\n",
       "         Adj Close    Volume      dates  \n",
       "0      4899.700195       0.0 2010-02-01  \n",
       "1      4830.100098       0.0 2010-02-02  \n",
       "2      4931.850098       0.0 2010-02-03  \n",
       "3      4845.350098       0.0 2010-02-04  \n",
       "4      4718.649902       0.0 2010-02-05  \n",
       "...            ...       ...        ...  \n",
       "2468  12119.000000  441200.0 2020-01-27  \n",
       "2469  12055.799810  478500.0 2020-01-28  \n",
       "2470  12129.500000  514400.0 2020-01-29  \n",
       "2471  12035.799810  538100.0 2020-01-30  \n",
       "2472  11962.099610  771300.0 2020-01-31  \n",
       "\n",
       "[2473 rows x 8 columns]"
      ]
     },
     "execution_count": 11,
     "metadata": {},
     "output_type": "execute_result"
    }
   ],
   "source": [
    "df_10"
   ]
  },
  {
   "cell_type": "code",
   "execution_count": 12,
   "metadata": {},
   "outputs": [
    {
     "data": {
      "text/html": [
       "<div>\n",
       "<style scoped>\n",
       "    .dataframe tbody tr th:only-of-type {\n",
       "        vertical-align: middle;\n",
       "    }\n",
       "\n",
       "    .dataframe tbody tr th {\n",
       "        vertical-align: top;\n",
       "    }\n",
       "\n",
       "    .dataframe thead th {\n",
       "        text-align: right;\n",
       "    }\n",
       "</style>\n",
       "<table border=\"1\" class=\"dataframe\">\n",
       "  <thead>\n",
       "    <tr style=\"text-align: right;\">\n",
       "      <th></th>\n",
       "      <th>Date</th>\n",
       "      <th>Open</th>\n",
       "      <th>High</th>\n",
       "      <th>Low</th>\n",
       "      <th>Close</th>\n",
       "      <th>Adj Close</th>\n",
       "      <th>Volume</th>\n",
       "    </tr>\n",
       "    <tr>\n",
       "      <th>dates</th>\n",
       "      <th></th>\n",
       "      <th></th>\n",
       "      <th></th>\n",
       "      <th></th>\n",
       "      <th></th>\n",
       "      <th></th>\n",
       "      <th></th>\n",
       "    </tr>\n",
       "  </thead>\n",
       "  <tbody>\n",
       "    <tr>\n",
       "      <th>2010-02-01</th>\n",
       "      <td>01-02-2010</td>\n",
       "      <td>4882.049805</td>\n",
       "      <td>4918.799805</td>\n",
       "      <td>4827.149902</td>\n",
       "      <td>4899.700195</td>\n",
       "      <td>4899.700195</td>\n",
       "      <td>0.0</td>\n",
       "    </tr>\n",
       "    <tr>\n",
       "      <th>2010-02-02</th>\n",
       "      <td>02-02-2010</td>\n",
       "      <td>4907.850098</td>\n",
       "      <td>4951.149902</td>\n",
       "      <td>4814.100098</td>\n",
       "      <td>4830.100098</td>\n",
       "      <td>4830.100098</td>\n",
       "      <td>0.0</td>\n",
       "    </tr>\n",
       "    <tr>\n",
       "      <th>2010-02-03</th>\n",
       "      <td>03-02-2010</td>\n",
       "      <td>4831.000000</td>\n",
       "      <td>4949.149902</td>\n",
       "      <td>4831.000000</td>\n",
       "      <td>4931.850098</td>\n",
       "      <td>4931.850098</td>\n",
       "      <td>0.0</td>\n",
       "    </tr>\n",
       "    <tr>\n",
       "      <th>2010-02-04</th>\n",
       "      <td>04-02-2010</td>\n",
       "      <td>4931.299805</td>\n",
       "      <td>4931.299805</td>\n",
       "      <td>4832.350098</td>\n",
       "      <td>4845.350098</td>\n",
       "      <td>4845.350098</td>\n",
       "      <td>0.0</td>\n",
       "    </tr>\n",
       "    <tr>\n",
       "      <th>2010-02-05</th>\n",
       "      <td>05-02-2010</td>\n",
       "      <td>4819.649902</td>\n",
       "      <td>4827.000000</td>\n",
       "      <td>4692.350098</td>\n",
       "      <td>4718.649902</td>\n",
       "      <td>4718.649902</td>\n",
       "      <td>0.0</td>\n",
       "    </tr>\n",
       "    <tr>\n",
       "      <th>...</th>\n",
       "      <td>...</td>\n",
       "      <td>...</td>\n",
       "      <td>...</td>\n",
       "      <td>...</td>\n",
       "      <td>...</td>\n",
       "      <td>...</td>\n",
       "      <td>...</td>\n",
       "    </tr>\n",
       "    <tr>\n",
       "      <th>2020-01-27</th>\n",
       "      <td>27-01-2020</td>\n",
       "      <td>12197.099610</td>\n",
       "      <td>12216.599610</td>\n",
       "      <td>12107.000000</td>\n",
       "      <td>12119.000000</td>\n",
       "      <td>12119.000000</td>\n",
       "      <td>441200.0</td>\n",
       "    </tr>\n",
       "    <tr>\n",
       "      <th>2020-01-28</th>\n",
       "      <td>28-01-2020</td>\n",
       "      <td>12148.099610</td>\n",
       "      <td>12163.549810</td>\n",
       "      <td>12024.500000</td>\n",
       "      <td>12055.799810</td>\n",
       "      <td>12055.799810</td>\n",
       "      <td>478500.0</td>\n",
       "    </tr>\n",
       "    <tr>\n",
       "      <th>2020-01-29</th>\n",
       "      <td>29-01-2020</td>\n",
       "      <td>12114.900390</td>\n",
       "      <td>12169.599610</td>\n",
       "      <td>12103.799810</td>\n",
       "      <td>12129.500000</td>\n",
       "      <td>12129.500000</td>\n",
       "      <td>514400.0</td>\n",
       "    </tr>\n",
       "    <tr>\n",
       "      <th>2020-01-30</th>\n",
       "      <td>30-01-2020</td>\n",
       "      <td>12147.750000</td>\n",
       "      <td>12150.299810</td>\n",
       "      <td>12010.599610</td>\n",
       "      <td>12035.799810</td>\n",
       "      <td>12035.799810</td>\n",
       "      <td>538100.0</td>\n",
       "    </tr>\n",
       "    <tr>\n",
       "      <th>2020-01-31</th>\n",
       "      <td>31-01-2020</td>\n",
       "      <td>12100.400390</td>\n",
       "      <td>12103.549810</td>\n",
       "      <td>11945.849610</td>\n",
       "      <td>11962.099610</td>\n",
       "      <td>11962.099610</td>\n",
       "      <td>771300.0</td>\n",
       "    </tr>\n",
       "  </tbody>\n",
       "</table>\n",
       "<p>2473 rows × 7 columns</p>\n",
       "</div>"
      ],
      "text/plain": [
       "                  Date          Open          High           Low  \\\n",
       "dates                                                              \n",
       "2010-02-01  01-02-2010   4882.049805   4918.799805   4827.149902   \n",
       "2010-02-02  02-02-2010   4907.850098   4951.149902   4814.100098   \n",
       "2010-02-03  03-02-2010   4831.000000   4949.149902   4831.000000   \n",
       "2010-02-04  04-02-2010   4931.299805   4931.299805   4832.350098   \n",
       "2010-02-05  05-02-2010   4819.649902   4827.000000   4692.350098   \n",
       "...                ...           ...           ...           ...   \n",
       "2020-01-27  27-01-2020  12197.099610  12216.599610  12107.000000   \n",
       "2020-01-28  28-01-2020  12148.099610  12163.549810  12024.500000   \n",
       "2020-01-29  29-01-2020  12114.900390  12169.599610  12103.799810   \n",
       "2020-01-30  30-01-2020  12147.750000  12150.299810  12010.599610   \n",
       "2020-01-31  31-01-2020  12100.400390  12103.549810  11945.849610   \n",
       "\n",
       "                   Close     Adj Close    Volume  \n",
       "dates                                             \n",
       "2010-02-01   4899.700195   4899.700195       0.0  \n",
       "2010-02-02   4830.100098   4830.100098       0.0  \n",
       "2010-02-03   4931.850098   4931.850098       0.0  \n",
       "2010-02-04   4845.350098   4845.350098       0.0  \n",
       "2010-02-05   4718.649902   4718.649902       0.0  \n",
       "...                  ...           ...       ...  \n",
       "2020-01-27  12119.000000  12119.000000  441200.0  \n",
       "2020-01-28  12055.799810  12055.799810  478500.0  \n",
       "2020-01-29  12129.500000  12129.500000  514400.0  \n",
       "2020-01-30  12035.799810  12035.799810  538100.0  \n",
       "2020-01-31  11962.099610  11962.099610  771300.0  \n",
       "\n",
       "[2473 rows x 7 columns]"
      ]
     },
     "execution_count": 12,
     "metadata": {},
     "output_type": "execute_result"
    }
   ],
   "source": [
    "df_10['dates']=pd.to_datetime(df_10['dates'])\n",
    "df_10=df_10.set_index('dates')\n",
    "df_10"
   ]
  },
  {
   "cell_type": "code",
   "execution_count": 13,
   "metadata": {},
   "outputs": [
    {
     "data": {
      "text/plain": [
       "(2449, 7)"
      ]
     },
     "execution_count": 13,
     "metadata": {},
     "output_type": "execute_result"
    }
   ],
   "source": [
    "df_10=df_10.dropna(axis=\"rows\")\n",
    "df_10.isnull().sum()\n",
    "df_10.shape"
   ]
  },
  {
   "cell_type": "code",
   "execution_count": 15,
   "metadata": {},
   "outputs": [
    {
     "data": {
      "text/plain": [
       "dates\n",
       "2010-02-01     4899.700195\n",
       "2010-02-02     4830.100098\n",
       "2010-02-03     4931.850098\n",
       "2010-02-04     4845.350098\n",
       "2010-02-05     4718.649902\n",
       "                  ...     \n",
       "2020-01-27    12119.000000\n",
       "2020-01-28    12055.799810\n",
       "2020-01-29    12129.500000\n",
       "2020-01-30    12035.799810\n",
       "2020-01-31    11962.099610\n",
       "Name: Close, Length: 2449, dtype: float64"
      ]
     },
     "execution_count": 15,
     "metadata": {},
     "output_type": "execute_result"
    }
   ],
   "source": [
    "df_close=df_10.iloc[:,4]\n",
    "df_close"
   ]
  },
  {
   "cell_type": "code",
   "execution_count": 16,
   "metadata": {},
   "outputs": [
    {
     "data": {
      "text/plain": [
       "[<matplotlib.lines.Line2D at 0x24287f73550>]"
      ]
     },
     "execution_count": 16,
     "metadata": {},
     "output_type": "execute_result"
    },
    {
     "data": {
      "image/png": "[encoded data removed]",
      "text/plain": [
       "<Figure size 432x288 with 1 Axes>"
      ]
     },
     "metadata": {
      "needs_background": "light"
     },
     "output_type": "display_data"
    }
   ],
   "source": [
    "plt.plot(df_close)"
   ]
  },
  {
   "cell_type": "code",
   "execution_count": 17,
   "metadata": {},
   "outputs": [],
   "source": [
    "def create_dataset(X, y, time_steps=1):\n",
    "    Xs, ys = [], []\n",
    "    for i in range(len(X) - time_steps):\n",
    "        v = X[i:(i + time_steps)]\n",
    "        Xs.append(v)\n",
    "        ys.append(y[i + time_steps])\n",
    "    return np.array(Xs), np.array(ys)"
   ]
  },
  {
   "cell_type": "code",
   "execution_count": 20,
   "metadata": {},
   "outputs": [],
   "source": [
    "sc=StandardScaler()\n",
    "\n",
    "df_close_scaled= sc.fit_transform(df_close.values.reshape(-1, 1))\n"
   ]
  },
  {
   "cell_type": "code",
   "execution_count": 21,
   "metadata": {},
   "outputs": [],
   "source": [
    "df_train=df_close_scaled[0:2000]\n",
    "df_test= df_close_scaled[2000:]"
   ]
  },
  {
   "cell_type": "code",
   "execution_count": 22,
   "metadata": {},
   "outputs": [],
   "source": [
    "X,Y=create_dataset(df_train,df_train,time_steps=50)\n",
    "X_val,y_val=create_dataset(df_test,df_test,time_steps=50)"
   ]
  },
  {
   "cell_type": "code",
   "execution_count": null,
   "metadata": {},
   "outputs": [],
   "source": []
  },
  {
   "cell_type": "code",
   "execution_count": null,
   "metadata": {},
   "outputs": [],
   "source": []
  },
  {
   "cell_type": "raw",
   "metadata": {},
   "source": [
    "X = []\n",
    "Y = []\n",
    "\n",
    "seq_len = 50\n",
    "num_records = len(sin_wave) - seq_len\n",
    "\n",
    "for i in range(num_records - 50):\n",
    "    X.append(sin_wave[i:i+seq_len])\n",
    "    Y.append(sin_wave[i+seq_len])\n",
    "    \n",
    "X = np.array(X)\n",
    "X = np.expand_dims(X, axis=2)\n",
    "\n",
    "Y = np.array(Y)\n",
    "Y = np.expand_dims(Y, axis=1)"
   ]
  },
  {
   "cell_type": "raw",
   "metadata": {},
   "source": [
    "X.shape,Y.shape"
   ]
  },
  {
   "cell_type": "raw",
   "metadata": {},
   "source": [
    "X_val = []\n",
    "Y_val = []\n",
    "\n",
    "for i in range(num_records - 50, num_records):\n",
    "    X_val.append(sin_wave[i:i+seq_len])\n",
    "    Y_val.append(sin_wave[i+seq_len])\n",
    "    \n",
    "X_val = np.array(X_val)\n",
    "X_val = np.expand_dims(X_val, axis=2)\n",
    "\n",
    "Y_val = np.array(Y_val)\n",
    "Y_val = np.expand_dims(Y_val, axis=1)"
   ]
  },
  {
   "cell_type": "code",
   "execution_count": 29,
   "metadata": {},
   "outputs": [],
   "source": [
    "learning_rate = 0.01    \n",
    "nepoch = 25               \n",
    "T = 50                   # length of sequence\n",
    "hidden_dim = 200         \n",
    "output_dim = 1\n",
    "\n",
    "bptt_truncate = 5\n",
    "min_clip_value = -10\n",
    "max_clip_value = 10"
   ]
  },
  {
   "cell_type": "code",
   "execution_count": 34,
   "metadata": {},
   "outputs": [
    {
     "data": {
      "text/plain": [
       "(200, 50)"
      ]
     },
     "execution_count": 34,
     "metadata": {},
     "output_type": "execute_result"
    }
   ],
   "source": [
    "scale = 1/max(1., (2+2)/2.)\n",
    "limit = math.sqrt(3.0 * scale)\n",
    "weights = np.random.uniform(-limit, limit, size=(hidden_dim,T))\n",
    "weights.shape\n",
    "\n"
   ]
  },
  {
   "cell_type": "code",
   "execution_count": 35,
   "metadata": {},
   "outputs": [],
   "source": [
    "U = np.random.uniform(0, 1, (hidden_dim, T))\n",
    "W = np.random.uniform(0, 1, (hidden_dim, hidden_dim))\n",
    "V = np.random.uniform(0, 1, (output_dim, hidden_dim))"
   ]
  },
  {
   "cell_type": "code",
   "execution_count": 36,
   "metadata": {},
   "outputs": [
    {
     "data": {
      "text/plain": [
       "(200, 50)"
      ]
     },
     "execution_count": 36,
     "metadata": {},
     "output_type": "execute_result"
    }
   ],
   "source": [
    "U.shape"
   ]
  },
  {
   "cell_type": "code",
   "execution_count": 37,
   "metadata": {},
   "outputs": [],
   "source": [
    "def sigmoid(x):\n",
    "    return 1 / (1 + np.exp(-x))"
   ]
  },
  {
   "cell_type": "code",
   "execution_count": null,
   "metadata": {},
   "outputs": [],
   "source": []
  },
  {
   "cell_type": "code",
   "execution_count": 38,
   "metadata": {},
   "outputs": [
    {
     "name": "stdout",
     "output_type": "stream",
     "text": [
      "Epoch:  1 , Loss:  [[9600601.25773226]]\n",
      "Epoch:  2 , Loss:  [[47818.47999805]]\n",
      "Epoch:  3 , Loss:  [[12406.04689959]]\n",
      "Epoch:  4 , Loss:  [[8582.36011948]]\n",
      "Epoch:  5 , Loss:  [[81371.03739003]]\n",
      "Epoch:  6 , Loss:  [[53184.8479179]]\n",
      "Epoch:  7 , Loss:  [[18546.2618263]]\n",
      "Epoch:  8 , Loss:  [[25451.56726735]]\n",
      "Epoch:  9 , Loss:  [[95739.60805129]]\n",
      "Epoch:  10 , Loss:  [[10363.84507293]]\n",
      "Epoch:  11 , Loss:  [[16763.46589635]]\n",
      "Epoch:  12 , Loss:  [[7300.93542592]]\n"
     ]
    },
    {
     "name": "stderr",
     "output_type": "stream",
     "text": [
      "<ipython-input-37-b683d5dd8fa4>:2: RuntimeWarning: overflow encountered in exp\n",
      "  return 1 / (1 + np.exp(-x))\n"
     ]
    },
    {
     "name": "stdout",
     "output_type": "stream",
     "text": [
      "Epoch:  13 , Loss:  [[6141.09553261]]\n",
      "Epoch:  14 , Loss:  [[101692.20287896]]\n",
      "Epoch:  15 , Loss:  [[84727.92442203]]\n",
      "Epoch:  16 , Loss:  [[110660.80372046]]\n",
      "Epoch:  17 , Loss:  [[15954.61877744]]\n",
      "Epoch:  18 , Loss:  [[9508.91646794]]\n",
      "Epoch:  19 , Loss:  [[7748.26564997]]\n",
      "Epoch:  20 , Loss:  [[115876.3146831]]\n",
      "Epoch:  21 , Loss:  [[8008.67636295]]\n",
      "Epoch:  22 , Loss:  [[4864.181449]]\n",
      "Epoch:  23 , Loss:  [[73688.17581073]]\n",
      "Epoch:  24 , Loss:  [[4815.10606645]]\n",
      "Epoch:  25 , Loss:  [[19280.04002591]]\n"
     ]
    }
   ],
   "source": [
    "for epoch in range(nepoch):\n",
    "    # check loss on train\n",
    "    loss = 0.0\n",
    "    \n",
    "    # do a forward pass to get prediction\n",
    "    for i in range(Y.shape[0]):\n",
    "        x, y = X[i], Y[i]                    # get input, output values of each record\n",
    "        prev_s = np.zeros((hidden_dim, 1))   # here, prev-s is the value of the previous activation of hidden layer; which is initialized as all zeroes\n",
    "        for t in range(T):\n",
    "            new_input = np.zeros(x.shape)    # we then do a forward pass for every timestep in the sequence\n",
    "            new_input[t] = x[t]              # for this, we define a single input for that timestep\n",
    "            mulu = np.dot(U, new_input)\n",
    "            mulw = np.dot(W, prev_s)\n",
    "            add = mulw + mulu\n",
    "            s = sigmoid(add)\n",
    "            mulv = np.dot(V, s)\n",
    "            prev_s = s\n",
    "\n",
    "    # calculate error \n",
    "        loss_per_record = (y - mulv)**2 / 2\n",
    "        loss += loss_per_record\n",
    "    loss = loss / float(y.shape[0])\n",
    "    \n",
    "    \"\"\"# check loss on val\n",
    "    val_loss = 0.0\n",
    "    for i in range(Y_val.shape[0]):\n",
    "        x, y = X_val[i], Y_val[i]\n",
    "        prev_s = np.zeros((hidden_dim, 1))\n",
    "        for t in range(T):\n",
    "            new_input = np.zeros(x.shape)\n",
    "            new_input[t] = x[t]\n",
    "            mulu = np.dot(U, new_input)\n",
    "            mulw = np.dot(W, prev_s)\n",
    "            add = mulw + mulu\n",
    "            s = sigmoid(add)\n",
    "            mulv = np.dot(V, s)\n",
    "            prev_s = s\n",
    "\n",
    "        loss_per_record = (y - mulv)**2 / 2\n",
    "        val_loss += loss_per_record\n",
    "    val_loss = val_loss / float(y.shape[0])\n",
    "\n",
    "    print('Epoch: ', epoch + 1, ', Loss: ', loss, ', Val Loss: ', val_loss)\"\"\"\n",
    "    \n",
    "    print('Epoch: ', epoch + 1, ', Loss: ', loss)\n",
    "    \n",
    "    # train model\n",
    "    for i in range(Y.shape[0]):\n",
    "        x, y = X[i], Y[i]\n",
    "    \n",
    "        layers = []\n",
    "        prev_s = np.zeros((hidden_dim, 1))\n",
    "        dU = np.zeros(U.shape)\n",
    "        dV = np.zeros(V.shape)\n",
    "        dW = np.zeros(W.shape)\n",
    "        \n",
    "        dU_t = np.zeros(U.shape)\n",
    "        dV_t = np.zeros(V.shape)\n",
    "        dW_t = np.zeros(W.shape)\n",
    "        \n",
    "        dU_i = np.zeros(U.shape)\n",
    "        dW_i = np.zeros(W.shape)\n",
    "        \n",
    "        # forward pass\n",
    "        for t in range(T):\n",
    "            new_input = np.zeros(x.shape)\n",
    "            new_input[t] = x[t]\n",
    "            mulu = np.dot(U, new_input)\n",
    "            mulw = np.dot(W, prev_s)\n",
    "            add = mulw + mulu\n",
    "            s = sigmoid(add)\n",
    "            mulv = np.dot(V, s)\n",
    "            layers.append({'s':s, 'prev_s':prev_s})\n",
    "            prev_s = s\n",
    "            \n",
    "        # derivative of pred\n",
    "        dmulv = (mulv - y)\n",
    "        \n",
    "        # backward pass\n",
    "        for t in range(T):\n",
    "            dV_t = np.dot(dmulv, np.transpose(layers[t]['s']))\n",
    "            dsv = np.dot(np.transpose(V), dmulv)\n",
    "            \n",
    "            ds = dsv\n",
    "            dadd = add * (1 - add) * ds\n",
    "            \n",
    "            dmulw = dadd * np.ones_like(mulw)\n",
    "\n",
    "            dprev_s = np.dot(np.transpose(W), dmulw)\n",
    "\n",
    "\n",
    "            for i in range(t-1, max(-1, t-bptt_truncate-1), -1):\n",
    "                ds = dsv + dprev_s\n",
    "                dadd = add * (1 - add) * ds\n",
    "\n",
    "                dmulw = dadd * np.ones_like(mulw)\n",
    "                dmulu = dadd * np.ones_like(mulu)\n",
    "\n",
    "                dW_i = np.dot(W, layers[t]['prev_s'])\n",
    "                dprev_s = np.dot(np.transpose(W), dmulw)\n",
    "\n",
    "                new_input = np.zeros(x.shape)\n",
    "                new_input[t] = x[t]\n",
    "                dU_i = np.dot(U, new_input)\n",
    "                dx = np.dot(np.transpose(U), dmulu)\n",
    "\n",
    "                dU_t += dU_i\n",
    "                dW_t += dW_i\n",
    "                \n",
    "            dV += dV_t\n",
    "            dU += dU_t\n",
    "            dW += dW_t\n",
    "            \n",
    "            if dU.max() > max_clip_value:\n",
    "                dU[dU > max_clip_value] = max_clip_value\n",
    "            if dV.max() > max_clip_value:\n",
    "                dV[dV > max_clip_value] = max_clip_value\n",
    "            if dW.max() > max_clip_value:\n",
    "                dW[dW > max_clip_value] = max_clip_value\n",
    "                \n",
    "            \n",
    "            if dU.min() < min_clip_value:\n",
    "                dU[dU < min_clip_value] = min_clip_value\n",
    "            if dV.min() < min_clip_value:\n",
    "                dV[dV < min_clip_value] = min_clip_value\n",
    "            if dW.min() < min_clip_value:\n",
    "                dW[dW < min_clip_value] = min_clip_value\n",
    "        \n",
    "        # update\n",
    "        U -= learning_rate * dU\n",
    "        V -= learning_rate * dV\n",
    "        W -= learning_rate * dW"
   ]
  },
  {
   "cell_type": "code",
   "execution_count": null,
   "metadata": {},
   "outputs": [],
   "source": []
  }
 ],
 "metadata": {
  "kernelspec": {
   "display_name": "Python 3",
   "language": "python",
   "name": "python3"
  },
  "language_info": {
   "codemirror_mode": {
    "name": "ipython",
    "version": 3
   },
   "file_extension": ".py",
   "mimetype": "text/x-python",
   "name": "python",
   "nbconvert_exporter": "python",
   "pygments_lexer": "ipython3",
   "version": "3.8.1"
  }
 },
 "nbformat": 4,
 "nbformat_minor": 4
}
